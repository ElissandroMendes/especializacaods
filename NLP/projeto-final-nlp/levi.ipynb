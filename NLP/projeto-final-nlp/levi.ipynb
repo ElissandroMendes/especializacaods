{
 "cells": [
  {
   "cell_type": "code",
   "execution_count": 30,
   "metadata": {},
   "outputs": [],
   "source": [
    "import pandas as pd\n",
    "from textblob import TextBlob\n",
    "import collections\n",
    "from collections import Counter\n",
    "import nltk\n",
    "import numpy as np"
   ]
  },
  {
   "cell_type": "code",
   "execution_count": 2,
   "metadata": {},
   "outputs": [],
   "source": [
    "#marketplace, customer_id, review_id\n",
    "#product_id, product_parent, product_title\n",
    "#product_category, star_rating, helpful_votes\n",
    "#total_votes, vine, verified_purchase\n",
    "#review_headline, review_body, review_date"
   ]
  },
  {
   "cell_type": "code",
   "execution_count": 5,
   "metadata": {},
   "outputs": [],
   "source": [
    "reviews = pd.read_table(\"C:/Users/levig/Documents/Amazon Reviews/amazon_reviews_us_PC_v1_00.tsv\", sep = \"\\t\", usecols = [\"product_title\", \"star_rating\", \"helpful_votes\", \"vine\", \"verified_purchase\", \"review_body\"], dtype = {\"star_rating\":\"int\"})"
   ]
  },
  {
   "cell_type": "code",
   "execution_count": 22,
   "metadata": {},
   "outputs": [],
   "source": [
    "reviews_per_product = Counter(reviews[\"product_title\"])\n",
    "most_reviewd_products = reviews_per_product.most_common(20)\n",
    "products, count = zip(*most_reviewd_products)\n",
    "df_required_products = pd.DataFrame(reviews.loc[reviews[\"product_title\"].isin(products) & (reviews[\"verified_purchase\"] == \"Y\")])"
   ]
  },
  {
   "cell_type": "code",
   "execution_count": 25,
   "metadata": {},
   "outputs": [],
   "source": [
    "pol = lambda x: TextBlob(str(x)).sentiment.polarity\n",
    "sub = lambda x: TextBlob(str(x)).sentiment.subjectivity"
   ]
  },
  {
   "cell_type": "code",
   "execution_count": 26,
   "metadata": {},
   "outputs": [],
   "source": [
    "df_required_products[\"polarity\"] = df_required_products[\"review_body\"].apply(pol)\n",
    "df_required_products[\"subjectivity\"] = df_required_products[\"review_body\"].apply(sub)"
   ]
  },
  {
   "cell_type": "code",
   "execution_count": 114,
   "metadata": {},
   "outputs": [],
   "source": [
    "df_required_products_by_star = pd.DataFrame(columns=['product_title', 'star_rating', 'polarity', 'subjectivity'])"
   ]
  },
  {
   "cell_type": "code",
   "execution_count": 115,
   "metadata": {},
   "outputs": [],
   "source": [
    "count = 0\n",
    "for product in products:\n",
    "    for star in range(5,0,-1):\n",
    "        df_required_products_by_star.loc[count] = {'product_title':product, 'star_rating': star,\n",
    "                                         'polarity' : np.mean(df_required_products.loc[(df_required_products['product_title'] == product) & (df_required_products['star_rating'] == star),\"polarity\"]),\n",
    "                                         'subjectivity' : np.mean(df_required_products.loc[(df_required_products['product_title'] == product) & (df_required_products['star_rating'] == star),'subjectivity'])}\n",
    "        count += 1"
   ]
  },
  {
   "cell_type": "code",
   "execution_count": 116,
   "metadata": {},
   "outputs": [
    {
     "data": {
      "text/html": [
       "<div>\n",
       "<style scoped>\n",
       "    .dataframe tbody tr th:only-of-type {\n",
       "        vertical-align: middle;\n",
       "    }\n",
       "\n",
       "    .dataframe tbody tr th {\n",
       "        vertical-align: top;\n",
       "    }\n",
       "\n",
       "    .dataframe thead th {\n",
       "        text-align: right;\n",
       "    }\n",
       "</style>\n",
       "<table border=\"1\" class=\"dataframe\">\n",
       "  <thead>\n",
       "    <tr style=\"text-align: right;\">\n",
       "      <th></th>\n",
       "      <th>product_title</th>\n",
       "      <th>star_rating</th>\n",
       "      <th>polarity</th>\n",
       "      <th>subjectivity</th>\n",
       "    </tr>\n",
       "  </thead>\n",
       "  <tbody>\n",
       "    <tr>\n",
       "      <td>0</td>\n",
       "      <td>Fire HD 7, 7\" HD Display, Wi-Fi, 8 GB</td>\n",
       "      <td>5</td>\n",
       "      <td>0.465142</td>\n",
       "      <td>0.593860</td>\n",
       "    </tr>\n",
       "    <tr>\n",
       "      <td>1</td>\n",
       "      <td>Fire HD 7, 7\" HD Display, Wi-Fi, 8 GB</td>\n",
       "      <td>4</td>\n",
       "      <td>0.314477</td>\n",
       "      <td>0.561478</td>\n",
       "    </tr>\n",
       "    <tr>\n",
       "      <td>2</td>\n",
       "      <td>Fire HD 7, 7\" HD Display, Wi-Fi, 8 GB</td>\n",
       "      <td>3</td>\n",
       "      <td>0.129222</td>\n",
       "      <td>0.492052</td>\n",
       "    </tr>\n",
       "    <tr>\n",
       "      <td>3</td>\n",
       "      <td>Fire HD 7, 7\" HD Display, Wi-Fi, 8 GB</td>\n",
       "      <td>2</td>\n",
       "      <td>0.047572</td>\n",
       "      <td>0.473087</td>\n",
       "    </tr>\n",
       "    <tr>\n",
       "      <td>4</td>\n",
       "      <td>Fire HD 7, 7\" HD Display, Wi-Fi, 8 GB</td>\n",
       "      <td>1</td>\n",
       "      <td>-0.002515</td>\n",
       "      <td>0.452003</td>\n",
       "    </tr>\n",
       "    <tr>\n",
       "      <td>...</td>\n",
       "      <td>...</td>\n",
       "      <td>...</td>\n",
       "      <td>...</td>\n",
       "      <td>...</td>\n",
       "    </tr>\n",
       "    <tr>\n",
       "      <td>95</td>\n",
       "      <td>iXCC Multi pack Lightning cable</td>\n",
       "      <td>5</td>\n",
       "      <td>0.469152</td>\n",
       "      <td>0.580756</td>\n",
       "    </tr>\n",
       "    <tr>\n",
       "      <td>96</td>\n",
       "      <td>iXCC Multi pack Lightning cable</td>\n",
       "      <td>4</td>\n",
       "      <td>0.314327</td>\n",
       "      <td>0.507972</td>\n",
       "    </tr>\n",
       "    <tr>\n",
       "      <td>97</td>\n",
       "      <td>iXCC Multi pack Lightning cable</td>\n",
       "      <td>3</td>\n",
       "      <td>0.171668</td>\n",
       "      <td>0.428821</td>\n",
       "    </tr>\n",
       "    <tr>\n",
       "      <td>98</td>\n",
       "      <td>iXCC Multi pack Lightning cable</td>\n",
       "      <td>2</td>\n",
       "      <td>0.052770</td>\n",
       "      <td>0.411313</td>\n",
       "    </tr>\n",
       "    <tr>\n",
       "      <td>99</td>\n",
       "      <td>iXCC Multi pack Lightning cable</td>\n",
       "      <td>1</td>\n",
       "      <td>-0.049908</td>\n",
       "      <td>0.349620</td>\n",
       "    </tr>\n",
       "  </tbody>\n",
       "</table>\n",
       "<p>100 rows × 4 columns</p>\n",
       "</div>"
      ],
      "text/plain": [
       "                            product_title star_rating  polarity  subjectivity\n",
       "0   Fire HD 7, 7\" HD Display, Wi-Fi, 8 GB           5  0.465142      0.593860\n",
       "1   Fire HD 7, 7\" HD Display, Wi-Fi, 8 GB           4  0.314477      0.561478\n",
       "2   Fire HD 7, 7\" HD Display, Wi-Fi, 8 GB           3  0.129222      0.492052\n",
       "3   Fire HD 7, 7\" HD Display, Wi-Fi, 8 GB           2  0.047572      0.473087\n",
       "4   Fire HD 7, 7\" HD Display, Wi-Fi, 8 GB           1 -0.002515      0.452003\n",
       "..                                    ...         ...       ...           ...\n",
       "95        iXCC Multi pack Lightning cable           5  0.469152      0.580756\n",
       "96        iXCC Multi pack Lightning cable           4  0.314327      0.507972\n",
       "97        iXCC Multi pack Lightning cable           3  0.171668      0.428821\n",
       "98        iXCC Multi pack Lightning cable           2  0.052770      0.411313\n",
       "99        iXCC Multi pack Lightning cable           1 -0.049908      0.349620\n",
       "\n",
       "[100 rows x 4 columns]"
      ]
     },
     "execution_count": 116,
     "metadata": {},
     "output_type": "execute_result"
    }
   ],
   "source": [
    "df_required_products_by_star"
   ]
  },
  {
   "cell_type": "code",
   "execution_count": null,
   "metadata": {},
   "outputs": [],
   "source": []
  }
 ],
 "metadata": {
  "kernelspec": {
   "display_name": "Python 3",
   "language": "python",
   "name": "python3"
  },
  "language_info": {
   "codemirror_mode": {
    "name": "ipython",
    "version": 3
   },
   "file_extension": ".py",
   "mimetype": "text/x-python",
   "name": "python",
   "nbconvert_exporter": "python",
   "pygments_lexer": "ipython3",
   "version": "3.7.3"
  }
 },
 "nbformat": 4,
 "nbformat_minor": 2
}
