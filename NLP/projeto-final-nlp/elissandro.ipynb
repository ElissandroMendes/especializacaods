{
 "cells": [
  {
   "cell_type": "code",
   "execution_count": 31,
   "metadata": {},
   "outputs": [],
   "source": [
    "import pandas as pd\n",
    "from textblob import TextBlob\n",
    "from collections import Counter"
   ]
  },
  {
   "cell_type": "markdown",
   "metadata": {},
   "source": [
    "### Lendo dados das reviews"
   ]
  },
  {
   "cell_type": "code",
   "execution_count": 30,
   "metadata": {},
   "outputs": [],
   "source": [
    "reviews = pd.read_csv('data/amazon_reviews_us_PC_v1_00.tsv', sep='\\t', \\\n",
    "                      usecols=['product_id', 'product_title', 'product_category', 'star_rating', 'verified_purchase', 'review_date', 'review_body'], \\\n",
    "                      dtype = {\"star_rating\":\"int\"})"
   ]
  },
  {
   "cell_type": "markdown",
   "metadata": {},
   "source": [
    "### Criando e preenchendo as colunas para polaridade e subjetividade"
   ]
  },
  {
   "cell_type": "code",
   "execution_count": 3,
   "metadata": {},
   "outputs": [],
   "source": [
    "def calculate_sentiment(review_text):\n",
    "    tb = TextBlob(str(review_text))\n",
    "    return pd.Series({'polarity': tb.sentiment.polarity, 'subjectivity': tb.sentiment.subjectivity}) "
   ]
  },
  {
   "cell_type": "code",
   "execution_count": 4,
   "metadata": {},
   "outputs": [],
   "source": [
    "reviews = reviews.merge(reviews['review_body'].apply(calculate_sentiment), left_index=True, right_index=True)"
   ]
  },
  {
   "cell_type": "code",
   "execution_count": 16,
   "metadata": {},
   "outputs": [],
   "source": [
    "reviews_by_product = reviews.groupby(['product_id', 'star_rating']).agg({'polarity': 'mean', 'subjectivity': 'mean'})"
   ]
  },
  {
   "cell_type": "code",
   "execution_count": 40,
   "metadata": {},
   "outputs": [],
   "source": [
    "grouped = reviews.groupby('product_title').size()"
   ]
  },
  {
   "cell_type": "code",
   "execution_count": 47,
   "metadata": {},
   "outputs": [
    {
     "data": {
      "text/plain": [
       "product_title\n",
       "Fire HD 7, 7\" HD Display, Wi-Fi, 8 GB                                                 30846\n",
       "Kindle Fire HDX 7\", HDX Display (Previous Generation - 3rd)                           30026\n",
       "Kindle Paperwhite, 6\" High-Resolution Display (212 ppi) with Built-in Light, Wi-Fi    23959\n",
       "Kindle Fire (Previous Generation - 1st)                                               23310\n",
       "SanDisk Ultra microSDHC Card Plus Adapter                                             22297\n",
       "dtype: int64"
      ]
     },
     "execution_count": 47,
     "metadata": {},
     "output_type": "execute_result"
    }
   ],
   "source": [
    "grouped.sort_values(ascending=False).head(5)"
   ]
  },
  {
   "cell_type": "code",
   "execution_count": 43,
   "metadata": {},
   "outputs": [],
   "source": [
    "reviews_per_product = Counter(reviews[\"product_title\"])"
   ]
  },
  {
   "cell_type": "code",
   "execution_count": 45,
   "metadata": {},
   "outputs": [],
   "source": [
    "most_reviewd_products = reviews_per_product.most_common(20)"
   ]
  },
  {
   "cell_type": "code",
   "execution_count": 48,
   "metadata": {},
   "outputs": [
    {
     "data": {
      "text/plain": [
       "[('Fire HD 7, 7\" HD Display, Wi-Fi, 8 GB', 30846),\n",
       " ('Kindle Fire HDX 7\", HDX Display (Previous Generation - 3rd)', 30026),\n",
       " ('Kindle Paperwhite, 6\" High-Resolution Display (212 ppi) with Built-in Light, Wi-Fi',\n",
       "  23959),\n",
       " ('Kindle Fire (Previous Generation - 1st)', 23310),\n",
       " ('SanDisk Ultra microSDHC Card Plus Adapter', 22297)]"
      ]
     },
     "execution_count": 48,
     "metadata": {},
     "output_type": "execute_result"
    }
   ],
   "source": [
    "most_reviewd_products[:5]"
   ]
  },
  {
   "cell_type": "code",
   "execution_count": 51,
   "metadata": {},
   "outputs": [
    {
     "data": {
      "text/plain": [
       "30913"
      ]
     },
     "execution_count": 51,
     "metadata": {},
     "output_type": "execute_result"
    }
   ],
   "source": [
    "import re\n",
    "import string\n",
    "document_text = open('data/amazon_reviews_us_PC_v1_00.tsv', 'r')\n",
    "text_string = document_text.read()\n",
    "match_pattern = re.findall(r'Fire HD 7, 7\" HD Display, Wi-Fi, 8 GB', text_string)\n",
    "len(match_pattern)"
   ]
  },
  {
   "cell_type": "code",
   "execution_count": null,
   "metadata": {},
   "outputs": [],
   "source": []
  }
 ],
 "metadata": {
  "kernelspec": {
   "display_name": "Python 3",
   "language": "python",
   "name": "python3"
  },
  "language_info": {
   "codemirror_mode": {
    "name": "ipython",
    "version": 3
   },
   "file_extension": ".py",
   "mimetype": "text/x-python",
   "name": "python",
   "nbconvert_exporter": "python",
   "pygments_lexer": "ipython3",
   "version": "3.7.3"
  }
 },
 "nbformat": 4,
 "nbformat_minor": 2
}
