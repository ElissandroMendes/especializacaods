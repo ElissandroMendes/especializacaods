{
 "cells": [
  {
   "cell_type": "code",
   "execution_count": 106,
   "metadata": {},
   "outputs": [],
   "source": [
    "import pandas as pd\n",
    "from textblob import TextBlob"
   ]
  },
  {
   "cell_type": "markdown",
   "metadata": {},
   "source": [
    "### Lendo dados das reviews"
   ]
  },
  {
   "cell_type": "code",
   "execution_count": 148,
   "metadata": {},
   "outputs": [],
   "source": [
    "reviews = pd.read_csv('data/amazon_reviews_us_Wireless_v1_00.tsv', sep='\\t', nrows=20000, \\\n",
    "                      usecols=['product_id', 'product_title', 'star_rating', 'verified_purchase', 'review_body'])"
   ]
  },
  {
   "cell_type": "markdown",
   "metadata": {},
   "source": [
    "### Criando e preenchendo as colunas para polaridade e subjetividade"
   ]
  },
  {
   "cell_type": "code",
   "execution_count": 152,
   "metadata": {},
   "outputs": [],
   "source": [
    "def calculate_sentiment(review_text):\n",
    "    tb = TextBlob(str(review_text))\n",
    "    return pd.Series({'polarity': tb.sentiment.polarity, 'subjectivity': tb.sentiment.subjectivity}) "
   ]
  },
  {
   "cell_type": "code",
   "execution_count": 153,
   "metadata": {},
   "outputs": [],
   "source": [
    "reviews = reviews.merge(reviews['review_body'].apply(calculate_sentiment), left_index=True, right_index=True)"
   ]
  },
  {
   "cell_type": "code",
   "execution_count": 154,
   "metadata": {},
   "outputs": [],
   "source": [
    "reviews_by_product = reviews.groupby('product_id')"
   ]
  },
  {
   "cell_type": "code",
   "execution_count": 155,
   "metadata": {},
   "outputs": [
    {
     "data": {
      "text/plain": [
       "B00QN1T6NM    51\n",
       "B00P936188    43\n",
       "B005X1Y7I2    31\n",
       "B00LBK7OSY    30\n",
       "B00K4VQZCM    30\n",
       "B00MQSMEEE    29\n",
       "B00OJE1SG8    27\n",
       "B00NH13YHK    27\n",
       "B00SXRXUFE    25\n",
       "B00UH8KKA0    25\n",
       "B00N0YUKEO    24\n",
       "B00UCZGS6S    23\n",
       "B00JRGOKQ8    23\n",
       "B009USAJCC    22\n",
       "B00KWR8ME2    21\n",
       "B00KW70WDG    19\n",
       "B00NH131LY    17\n",
       "B00VH8ZW02    17\n",
       "B00JM59JPG    17\n",
       "B00MLSY6MM    17\n",
       "B00MPIGPUY    17\n",
       "B00M3QA9AU    16\n",
       "B00BW0X892    16\n",
       "B00IEFXDO8    16\n",
       "B0075XYS4E    16\n",
       "B00NH12YN0    16\n",
       "B00EL94RQE    16\n",
       "B00XJS2O0E    16\n",
       "B00XKZJ5T4    16\n",
       "B00UV3MCK2    16\n",
       "              ..\n",
       "B00GX01HCQ     1\n",
       "B00UMVWMBM     1\n",
       "B00F4QUJ3S     1\n",
       "B00YYU1CW2     1\n",
       "B00OIZO6K8     1\n",
       "B00MTN5U24     1\n",
       "B00WX1AZP4     1\n",
       "B00NCUF604     1\n",
       "B01305MBPI     1\n",
       "B00K1I7VDA     1\n",
       "B00BNXY58G     1\n",
       "B00LI6WYS6     1\n",
       "B00NH8Y544     1\n",
       "B00GE9Z69Q     1\n",
       "B00VT7GBDS     1\n",
       "B00PT8SMIU     1\n",
       "B00XWVADPG     1\n",
       "B0056GJLUI     1\n",
       "B00JUXPNA0     1\n",
       "B00WHRG24M     1\n",
       "B00X7OKYXO     1\n",
       "B00JW7APWU     1\n",
       "B00RJL9RCK     1\n",
       "B00KC11GIC     1\n",
       "B00A6DN3VO     1\n",
       "B00V7JRJUM     1\n",
       "B00LH2VNLU     1\n",
       "B00XTN9EAW     1\n",
       "B00J340RVG     1\n",
       "B010ONR1T0     1\n",
       "Name: product_id, Length: 14033, dtype: int64"
      ]
     },
     "execution_count": 155,
     "metadata": {},
     "output_type": "execute_result"
    }
   ],
   "source": [
    "reviews['product_id'].value_counts()"
   ]
  },
  {
   "cell_type": "code",
   "execution_count": null,
   "metadata": {},
   "outputs": [],
   "source": []
  }
 ],
 "metadata": {
  "kernelspec": {
   "display_name": "Python 3",
   "language": "python",
   "name": "python3"
  },
  "language_info": {
   "codemirror_mode": {
    "name": "ipython",
    "version": 3
   },
   "file_extension": ".py",
   "mimetype": "text/x-python",
   "name": "python",
   "nbconvert_exporter": "python",
   "pygments_lexer": "ipython3",
   "version": "3.7.3"
  }
 },
 "nbformat": 4,
 "nbformat_minor": 2
}
