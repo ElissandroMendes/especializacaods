{
  "nbformat": 4,
  "nbformat_minor": 0,
  "metadata": {
    "colab": {
      "name": "ListaExercicio-02",
      "provenance": []
    },
    "kernelspec": {
      "name": "python3",
      "display_name": "Python 3"
    }
  },
  "cells": [
    {
      "cell_type": "code",
      "metadata": {
        "id": "jnPAYk9DbMn-",
        "colab_type": "code",
        "colab": {
          "base_uri": "https://localhost:8080/",
          "height": 102
        },
        "outputId": "440db450-510a-4ddd-f04f-32ec7b74a7ca"
      },
      "source": [
        "import nltk\n",
        "nltk.download('gutenberg')\n",
        "nltk.download('punkt')"
      ],
      "execution_count": 1,
      "outputs": [
        {
          "output_type": "stream",
          "text": [
            "[nltk_data] Downloading package gutenberg to /root/nltk_data...\n",
            "[nltk_data]   Unzipping corpora/gutenberg.zip.\n",
            "[nltk_data] Downloading package punkt to /root/nltk_data...\n",
            "[nltk_data]   Unzipping tokenizers/punkt.zip.\n"
          ],
          "name": "stdout"
        },
        {
          "output_type": "execute_result",
          "data": {
            "text/plain": [
              "True"
            ]
          },
          "metadata": {
            "tags": []
          },
          "execution_count": 1
        }
      ]
    },
    {
      "cell_type": "code",
      "metadata": {
        "id": "rrac6_b_bXnZ",
        "colab_type": "code",
        "colab": {}
      },
      "source": [
        "hamlet_books = ['shakespeare-caesar.txt','shakespeare-hamlet.txt','shakespeare-macbeth.txt']\n",
        "hamlet_words_sents = {book : (nltk.corpus.gutenberg.words(book), nltk.corpus.gutenberg.sents(book)) for book in hamlet_books}"
      ],
      "execution_count": 0,
      "outputs": []
    },
    {
      "cell_type": "code",
      "metadata": {
        "id": "uBwSl4fdcVuv",
        "colab_type": "code",
        "colab": {
          "base_uri": "https://localhost:8080/",
          "height": 272
        },
        "outputId": "a3fd4872-3abe-4fe4-d023-3105fac7a8cd"
      },
      "source": [
        "for name, words_sents in hamlet_words.items():\n",
        "  print(f'Livro: {name}')  \n",
        "  print(f'\\tTotal palavras: {len(words_sents[0])}')\n",
        "  print(f'\\tTotal sentenças: {len(words_sents[1])}')\n",
        "  print(f'\\tTotal palavras não repetidas: {len(set(words_sents[0]))}')  \n",
        "  print(f'\\tTotal palavras repetidas: {len(words_sents[0]) - len(set(words_sents[0]))}')  "
      ],
      "execution_count": 21,
      "outputs": [
        {
          "output_type": "stream",
          "text": [
            "Livro: shakespeare-caesar.txt\n",
            "\tTotal palavras: 25833\n",
            "\tTotal sentenças: 2163\n",
            "\tTotal palavras não repetidas: 3560\n",
            "\tTotal palavras repetidas: 22273\n",
            "Livro: shakespeare-hamlet.txt\n",
            "\tTotal palavras: 37360\n",
            "\tTotal sentenças: 3106\n",
            "\tTotal palavras não repetidas: 5447\n",
            "\tTotal palavras repetidas: 31913\n",
            "Livro: shakespeare-macbeth.txt\n",
            "\tTotal palavras: 23140\n",
            "\tTotal sentenças: 1907\n",
            "\tTotal palavras não repetidas: 4017\n",
            "\tTotal palavras repetidas: 19123\n"
          ],
          "name": "stdout"
        }
      ]
    },
    {
      "cell_type": "code",
      "metadata": {
        "id": "RUZc4JcIc9tP",
        "colab_type": "code",
        "colab": {
          "base_uri": "https://localhost:8080/",
          "height": 986
        },
        "outputId": "83460462-8eb0-442d-9c0f-64d48b968d04"
      },
      "source": [
        "tam_maior = 0\n",
        "tam_menor = 999999999\n",
        "maior_doc = ''\n",
        "menor_doc = ''\n",
        "for document in nltk.corpus.gutenberg.fileids():\n",
        "  words = nltk.corpus.gutenberg.words(document)\n",
        "  sents = nltk.corpus.gutenberg.sents(document)\n",
        "  num_words = len(words)\n",
        "  num_sents = len(sents)\n",
        "  print(f'Total palavras para {document}: {num_words}')  \n",
        "  print(f'Media palavras por sentença: {num_words / num_sents}')  \n",
        "  print('\\r')  \n",
        "  if (num_words < tam_menor):\n",
        "    tam_menor = num_words\n",
        "    menor_doc = document\n",
        "\n",
        "  if (num_words > tam_maior):\n",
        "    tam_maior = num_words\n",
        "    maior_doc = document\n",
        "print('\\r')\n",
        "print(f'Maior documento: {maior_doc}')\n",
        "print(f'Menor documento: {menor_doc}')"
      ],
      "execution_count": 33,
      "outputs": [
        {
          "output_type": "stream",
          "text": [
            "Total palavras para austen-emma.txt: 192427\n",
            "Media palavras por sentença: 24.822884416924666\n",
            "\n",
            "Total palavras para austen-persuasion.txt: 98171\n",
            "Media palavras por sentença: 26.19989324793168\n",
            "\n",
            "Total palavras para austen-sense.txt: 141576\n",
            "Media palavras por sentença: 28.32086417283457\n",
            "\n",
            "Total palavras para bible-kjv.txt: 1010654\n",
            "Media palavras por sentença: 33.57319868451649\n",
            "\n",
            "Total palavras para blake-poems.txt: 8354\n",
            "Media palavras por sentença: 19.073059360730593\n",
            "\n",
            "Total palavras para bryant-stories.txt: 55563\n",
            "Media palavras por sentença: 19.40726510653161\n",
            "\n",
            "Total palavras para burgess-busterbrown.txt: 18963\n",
            "Media palavras por sentença: 17.99146110056926\n",
            "\n",
            "Total palavras para carroll-alice.txt: 34110\n",
            "Media palavras por sentença: 20.029359953024077\n",
            "\n",
            "Total palavras para chesterton-ball.txt: 96996\n",
            "Media palavras por sentença: 20.296296296296298\n",
            "\n",
            "Total palavras para chesterton-brown.txt: 86063\n",
            "Media palavras por sentença: 22.61245401996847\n",
            "\n",
            "Total palavras para chesterton-thursday.txt: 69213\n",
            "Media palavras por sentença: 18.496258685195084\n",
            "\n",
            "Total palavras para edgeworth-parents.txt: 210663\n",
            "Media palavras por sentença: 20.59266862170088\n",
            "\n",
            "Total palavras para melville-moby_dick.txt: 260819\n",
            "Media palavras por sentença: 25.928919375683467\n",
            "\n",
            "Total palavras para milton-paradise.txt: 96825\n",
            "Media palavras por sentença: 52.309562398703406\n",
            "\n",
            "Total palavras para shakespeare-caesar.txt: 25833\n",
            "Media palavras por sentença: 11.943134535367545\n",
            "\n",
            "Total palavras para shakespeare-hamlet.txt: 37360\n",
            "Media palavras por sentença: 12.028332260141662\n",
            "\n",
            "Total palavras para shakespeare-macbeth.txt: 23140\n",
            "Media palavras por sentença: 12.134242265338228\n",
            "\n",
            "Total palavras para whitman-leaves.txt: 154883\n",
            "Media palavras por sentença: 36.44305882352941\n",
            "\n",
            "\n",
            "Maior documento: bible-kjv.txt\n",
            "Menor documento: blake-poems.txt\n"
          ],
          "name": "stdout"
        }
      ]
    },
    {
      "cell_type": "code",
      "metadata": {
        "id": "LsRQgIG8gWPv",
        "colab_type": "code",
        "colab": {
          "base_uri": "https://localhost:8080/",
          "height": 34
        },
        "outputId": "4137aaaa-a41d-44b9-c771-f71aa0d8733a"
      },
      "source": [
        "macbeth_words = nltk.corpus.gutenberg.words('shakespeare-macbeth.txt')\n",
        "macbeth_dist_freq = nltk.FreqDist(macbeth_words)\n",
        "macbeth_dist_freq.most_common(5)"
      ],
      "execution_count": 36,
      "outputs": [
        {
          "output_type": "execute_result",
          "data": {
            "text/plain": [
              "[(',', 1962), ('.', 1235), (\"'\", 637), ('the', 531), (':', 477)]"
            ]
          },
          "metadata": {
            "tags": []
          },
          "execution_count": 36
        }
      ]
    },
    {
      "cell_type": "code",
      "metadata": {
        "id": "_-Ho60XMh4DF",
        "colab_type": "code",
        "colab": {
          "base_uri": "https://localhost:8080/",
          "height": 34
        },
        "outputId": "0093ef19-43a0-444a-9bbf-59a3afbe5f55"
      },
      "source": [
        "num_dif_words_caesar_hamlet = len(hamlet_words_sents['shakespeare-caesar.txt'][0]) - len(hamlet_words_sents['shakespeare-hamlet.txt'][0])\n",
        "num_dif_words_caesar_hamlet\n",
        "# set(hamlet_words_sents['shakespeare-caesar.txt'][0]) - set(hamlet_words_sents['shakespeare-hamlet.txt'][0])"
      ],
      "execution_count": 46,
      "outputs": [
        {
          "output_type": "execute_result",
          "data": {
            "text/plain": [
              "-11527"
            ]
          },
          "metadata": {
            "tags": []
          },
          "execution_count": 46
        }
      ]
    }
  ]
}