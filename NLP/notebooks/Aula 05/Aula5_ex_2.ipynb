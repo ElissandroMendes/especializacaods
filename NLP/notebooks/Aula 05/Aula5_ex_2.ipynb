{
 "cells": [
  {
   "cell_type": "markdown",
   "metadata": {
    "colab_type": "text",
    "id": "o_LuhjB6zXCy"
   },
   "source": [
    "NLP Pipeline - Parte 1"
   ]
  },
  {
   "cell_type": "code",
   "execution_count": null,
   "metadata": {
    "colab": {},
    "colab_type": "code",
    "id": "xenH7cBDzV30"
   },
   "outputs": [],
   "source": [
    "import nltk\n"
   ]
  },
  {
   "cell_type": "markdown",
   "metadata": {
    "colab_type": "text",
    "id": "KkbsXrpAz4xv"
   },
   "source": [
    "Tokenização é o processo de dividir uma string em uma lista de palavras e pontuação."
   ]
  },
  {
   "cell_type": "code",
   "execution_count": null,
   "metadata": {
    "colab": {},
    "colab_type": "code",
    "id": "7Hs6OZY7z5m9"
   },
   "outputs": [],
   "source": [
    "my_string = \"I am learning Natural Language Processing.\""
   ]
  },
  {
   "cell_type": "code",
   "execution_count": 3,
   "metadata": {
    "colab": {
     "base_uri": "https://localhost:8080/",
     "height": 35
    },
    "colab_type": "code",
    "executionInfo": {
     "elapsed": 665,
     "status": "ok",
     "timestamp": 1576352873773,
     "user": {
      "displayName": "Wellington Franco",
      "photoUrl": "",
      "userId": "16483586833616386684"
     },
     "user_tz": 180
    },
    "id": "Um7YxtT8z_hR",
    "outputId": "24ac32e0-ffb5-4ad6-d94d-fa884d12d5b1"
   },
   "outputs": [
    {
     "data": {
      "text/plain": [
       "'I am learning Natural Language Processing.'"
      ]
     },
     "execution_count": 3,
     "metadata": {
      "tags": []
     },
     "output_type": "execute_result"
    }
   ],
   "source": [
    "my_string"
   ]
  },
  {
   "cell_type": "markdown",
   "metadata": {
    "colab_type": "text",
    "id": "g8RY4h-n0DxZ"
   },
   "source": [
    "Para Tokenizar"
   ]
  },
  {
   "cell_type": "code",
   "execution_count": 4,
   "metadata": {
    "colab": {
     "base_uri": "https://localhost:8080/",
     "height": 70
    },
    "colab_type": "code",
    "executionInfo": {
     "elapsed": 1244,
     "status": "ok",
     "timestamp": 1576352921299,
     "user": {
      "displayName": "Wellington Franco",
      "photoUrl": "",
      "userId": "16483586833616386684"
     },
     "user_tz": 180
    },
    "id": "Vlb3wKHw0OHW",
    "outputId": "536936cc-fc90-46aa-9763-f4bef7745384"
   },
   "outputs": [
    {
     "name": "stdout",
     "output_type": "stream",
     "text": [
      "[nltk_data] Downloading package punkt to /root/nltk_data...\n",
      "[nltk_data]   Unzipping tokenizers/punkt.zip.\n"
     ]
    },
    {
     "data": {
      "text/plain": [
       "True"
      ]
     },
     "execution_count": 4,
     "metadata": {
      "tags": []
     },
     "output_type": "execute_result"
    }
   ],
   "source": [
    "nltk.download('punkt')"
   ]
  },
  {
   "cell_type": "code",
   "execution_count": null,
   "metadata": {
    "colab": {},
    "colab_type": "code",
    "id": "EgO1D7NE0GPi"
   },
   "outputs": [],
   "source": [
    "tokens = nltk.word_tokenize(my_string)"
   ]
  },
  {
   "cell_type": "code",
   "execution_count": 6,
   "metadata": {
    "colab": {
     "base_uri": "https://localhost:8080/",
     "height": 35
    },
    "colab_type": "code",
    "executionInfo": {
     "elapsed": 755,
     "status": "ok",
     "timestamp": 1576353039777,
     "user": {
      "displayName": "Wellington Franco",
      "photoUrl": "",
      "userId": "16483586833616386684"
     },
     "user_tz": 180
    },
    "id": "quXj1NlU0Q8w",
    "outputId": "cac3efa1-d0e4-427a-a343-ab889bfa71e5"
   },
   "outputs": [
    {
     "data": {
      "text/plain": [
       "['I', 'am', 'learning', 'Natural', 'Language', 'Processing', '.']"
      ]
     },
     "execution_count": 6,
     "metadata": {
      "tags": []
     },
     "output_type": "execute_result"
    }
   ],
   "source": [
    "tokens"
   ]
  },
  {
   "cell_type": "code",
   "execution_count": 7,
   "metadata": {
    "colab": {
     "base_uri": "https://localhost:8080/",
     "height": 35
    },
    "colab_type": "code",
    "executionInfo": {
     "elapsed": 681,
     "status": "ok",
     "timestamp": 1576353130882,
     "user": {
      "displayName": "Wellington Franco",
      "photoUrl": "",
      "userId": "16483586833616386684"
     },
     "user_tz": 180
    },
    "id": "ZhzeiiyD1GSA",
    "outputId": "178a1502-039c-44c4-e35a-4797c562b90a"
   },
   "outputs": [
    {
     "data": {
      "text/plain": [
       "7"
      ]
     },
     "execution_count": 7,
     "metadata": {
      "tags": []
     },
     "output_type": "execute_result"
    }
   ],
   "source": [
    "len(tokens)"
   ]
  },
  {
   "cell_type": "code",
   "execution_count": null,
   "metadata": {
    "colab": {},
    "colab_type": "code",
    "id": "pdL3KUSW1Hvx"
   },
   "outputs": [],
   "source": [
    "phrase = \"I am learning Natural Language Processing. \n",
    "I am learning how to tokenize!\""
   ]
  },
  {
   "cell_type": "code",
   "execution_count": null,
   "metadata": {
    "colab": {},
    "colab_type": "code",
    "id": "hVXlenbI1MYS"
   },
   "outputs": [],
   "source": [
    "tokens_sent = nltk.sent_tokenize(phrase)"
   ]
  },
  {
   "cell_type": "code",
   "execution_count": null,
   "metadata": {
    "colab": {
     "base_uri": "https://localhost:8080/",
     "height": 53
    },
    "colab_type": "code",
    "executionInfo": {
     "elapsed": 711,
     "status": "ok",
     "timestamp": 1576317303000,
     "user": {
      "displayName": "Wellington Franco",
      "photoUrl": "",
      "userId": "16483586833616386684"
     },
     "user_tz": 180
    },
    "id": "eigEI7cf1SM9",
    "outputId": "75bf8f82-c189-40bc-a806-e4c944dd31cd"
   },
   "outputs": [
    {
     "data": {
      "text/plain": [
       "['I am learning Natural Language Processing.',\n",
       " 'I am learning how to tokenize!']"
      ]
     },
     "execution_count": 11,
     "metadata": {
      "tags": []
     },
     "output_type": "execute_result"
    }
   ],
   "source": [
    "tokens_sent"
   ]
  },
  {
   "cell_type": "code",
   "execution_count": null,
   "metadata": {
    "colab": {
     "base_uri": "https://localhost:8080/",
     "height": 35
    },
    "colab_type": "code",
    "executionInfo": {
     "elapsed": 799,
     "status": "ok",
     "timestamp": 1576317344561,
     "user": {
      "displayName": "Wellington Franco",
      "photoUrl": "",
      "userId": "16483586833616386684"
     },
     "user_tz": 180
    },
    "id": "KHVqYofO1UXe",
    "outputId": "1002ecc6-14df-4431-ee14-2516e8000820"
   },
   "outputs": [
    {
     "data": {
      "text/plain": [
       "2"
      ]
     },
     "execution_count": 12,
     "metadata": {
      "tags": []
     },
     "output_type": "execute_result"
    }
   ],
   "source": [
    "len(tokens_sent)"
   ]
  },
  {
   "cell_type": "markdown",
   "metadata": {
    "colab_type": "text",
    "id": "xg6R4oqa1jMl"
   },
   "source": [
    "Podemos tokenizar nossos tokens de sentença."
   ]
  },
  {
   "cell_type": "code",
   "execution_count": null,
   "metadata": {
    "colab": {
     "base_uri": "https://localhost:8080/",
     "height": 53
    },
    "colab_type": "code",
    "executionInfo": {
     "elapsed": 684,
     "status": "ok",
     "timestamp": 1576317380724,
     "user": {
      "displayName": "Wellington Franco",
      "photoUrl": "",
      "userId": "16483586833616386684"
     },
     "user_tz": 180
    },
    "id": "436LRUR_1j_W",
    "outputId": "c267ec5c-6604-48b7-ec6d-a914229d9489"
   },
   "outputs": [
    {
     "name": "stdout",
     "output_type": "stream",
     "text": [
      "['I', 'am', 'learning', 'Natural', 'Language', 'Processing', '.']\n",
      "['I', 'am', 'learning', 'how', 'to', 'tokenize', '!']\n"
     ]
    }
   ],
   "source": [
    "for item in tokens_sent:\n",
    "    print(nltk.word_tokenize(item))"
   ]
  }
 ],
 "metadata": {
  "colab": {
   "name": "Aula5_ex_2.ipynb",
   "provenance": []
  },
  "kernelspec": {
   "display_name": "Python 3",
   "language": "python",
   "name": "python3"
  },
  "language_info": {
   "codemirror_mode": {
    "name": "ipython",
    "version": 3
   },
   "file_extension": ".py",
   "mimetype": "text/x-python",
   "name": "python",
   "nbconvert_exporter": "python",
   "pygments_lexer": "ipython3",
   "version": "3.7.3"
  }
 },
 "nbformat": 4,
 "nbformat_minor": 2
}
