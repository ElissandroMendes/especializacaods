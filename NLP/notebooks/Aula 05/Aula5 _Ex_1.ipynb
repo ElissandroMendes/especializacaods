{
 "cells": [
  {
   "cell_type": "markdown",
   "metadata": {
    "colab_type": "text",
    "id": "nX5ozoa0vjwy"
   },
   "source": [
    "Pipeline NLP - Parte 2"
   ]
  },
  {
   "cell_type": "code",
   "execution_count": 1,
   "metadata": {
    "colab": {
     "base_uri": "https://localhost:8080/",
     "height": 52
    },
    "colab_type": "code",
    "executionInfo": {
     "elapsed": 3237,
     "status": "ok",
     "timestamp": 1576351577776,
     "user": {
      "displayName": "Wellington Franco",
      "photoUrl": "",
      "userId": "16483586833616386684"
     },
     "user_tz": 180
    },
    "id": "lLQIycU9Wr__",
    "outputId": "99d72926-9bd5-4040-e0c7-e6099045987b"
   },
   "outputs": [
    {
     "name": "stdout",
     "output_type": "stream",
     "text": [
      "[nltk_data] Downloading package gutenberg to /root/nltk_data...\n",
      "[nltk_data]   Unzipping corpora/gutenberg.zip.\n"
     ]
    }
   ],
   "source": [
    "import nltk\n",
    "\n",
    "nltk.download('gutenberg')\n",
    "\n",
    "md = nltk.corpus.gutenberg.words(\"melville-moby_dick.txt\")"
   ]
  },
  {
   "cell_type": "markdown",
   "metadata": {
    "colab_type": "text",
    "id": "szaFNXdOwC3h"
   },
   "source": [
    "Vamos pegar um elemento do vetor"
   ]
  },
  {
   "cell_type": "code",
   "execution_count": null,
   "metadata": {
    "colab": {
     "base_uri": "https://localhost:8080/",
     "height": 35
    },
    "colab_type": "code",
    "executionInfo": {
     "elapsed": 1096,
     "status": "ok",
     "timestamp": 1576315960241,
     "user": {
      "displayName": "Wellington Franco",
      "photoUrl": "",
      "userId": "16483586833616386684"
     },
     "user_tz": 180
    },
    "id": "y2wJW5MSwIBl",
    "outputId": "a6b7f0d6-eb05-4a29-f60f-bdbf5947cbe5"
   },
   "outputs": [
    {
     "data": {
      "text/plain": [
       "['[', 'Moby', 'Dick', 'by', 'Herman', 'Melville', '1851', ']']"
      ]
     },
     "execution_count": 5,
     "metadata": {
      "tags": []
     },
     "output_type": "execute_result"
    }
   ],
   "source": [
    "md[:8]"
   ]
  },
  {
   "cell_type": "markdown",
   "metadata": {
    "colab_type": "text",
    "id": "0XWOk8kJwULp"
   },
   "source": [
    "Vamos fazer uma copia desse elemento\n"
   ]
  },
  {
   "cell_type": "code",
   "execution_count": null,
   "metadata": {
    "colab": {},
    "colab_type": "code",
    "id": "0IXgnvNhwmmy"
   },
   "outputs": [],
   "source": [
    "md_8 = md[:8]"
   ]
  },
  {
   "cell_type": "code",
   "execution_count": 9,
   "metadata": {
    "colab": {
     "base_uri": "https://localhost:8080/",
     "height": 106
    },
    "colab_type": "code",
    "executionInfo": {
     "elapsed": 915,
     "status": "ok",
     "timestamp": 1576351900630,
     "user": {
      "displayName": "Wellington Franco",
      "photoUrl": "",
      "userId": "16483586833616386684"
     },
     "user_tz": 180
    },
    "id": "JcYHGZ_cwSqp",
    "outputId": "d0e490f8-3101-4053-cb5e-8a90b5e0841f"
   },
   "outputs": [
    {
     "name": "stdout",
     "output_type": "stream",
     "text": [
      "Moby\n",
      "Dick\n",
      "by\n",
      "Herman\n",
      "Melville\n"
     ]
    }
   ],
   "source": [
    "for word in md_8:\n",
    "    if word.isalpha():\n",
    "        print(word)"
   ]
  },
  {
   "cell_type": "markdown",
   "metadata": {
    "colab_type": "text",
    "id": "yyDYCZJew23x"
   },
   "source": [
    "Vamos deixar todas as palavras de forma minuscula"
   ]
  },
  {
   "cell_type": "code",
   "execution_count": 10,
   "metadata": {
    "colab": {
     "base_uri": "https://localhost:8080/",
     "height": 159
    },
    "colab_type": "code",
    "executionInfo": {
     "elapsed": 930,
     "status": "ok",
     "timestamp": 1576351911734,
     "user": {
      "displayName": "Wellington Franco",
      "photoUrl": "",
      "userId": "16483586833616386684"
     },
     "user_tz": 180
    },
    "id": "TFaSjwpaw-jl",
    "outputId": "4915509d-7812-4b24-edd1-92e34546007f"
   },
   "outputs": [
    {
     "name": "stdout",
     "output_type": "stream",
     "text": [
      "[\n",
      "MOBY\n",
      "DICK\n",
      "BY\n",
      "HERMAN\n",
      "MELVILLE\n",
      "1851\n",
      "]\n"
     ]
    }
   ],
   "source": [
    "for word in md_8:\n",
    "    print(word.lower())"
   ]
  },
  {
   "cell_type": "markdown",
   "metadata": {
    "colab_type": "text",
    "id": "i4gCYmtOw7aT"
   },
   "source": [
    "Para deixar na forma normalizada de forma direta"
   ]
  },
  {
   "cell_type": "code",
   "execution_count": null,
   "metadata": {
    "colab": {},
    "colab_type": "code",
    "id": "arLBqXDfxTj3"
   },
   "outputs": [],
   "source": [
    "norm = [word.lower() for word in md_8 if word.isalpha()]"
   ]
  },
  {
   "cell_type": "code",
   "execution_count": null,
   "metadata": {
    "colab": {
     "base_uri": "https://localhost:8080/",
     "height": 35
    },
    "colab_type": "code",
    "executionInfo": {
     "elapsed": 911,
     "status": "ok",
     "timestamp": 1576316268964,
     "user": {
      "displayName": "Wellington Franco",
      "photoUrl": "",
      "userId": "16483586833616386684"
     },
     "user_tz": 180
    },
    "id": "kxZfInU0xWMG",
    "outputId": "73345aa8-51ea-4265-fab8-43a0736a00ef"
   },
   "outputs": [
    {
     "data": {
      "text/plain": [
       "['moby', 'dick', 'by', 'herman', 'melville']"
      ]
     },
     "execution_count": 11,
     "metadata": {
      "tags": []
     },
     "output_type": "execute_result"
    }
   ],
   "source": [
    "norm"
   ]
  },
  {
   "cell_type": "markdown",
   "metadata": {
    "colab_type": "text",
    "id": "R56CFiAZxitQ"
   },
   "source": [
    "**Stemmers**\n",
    "Os stemmers ajudam a normalizar ainda mais o texto quando encontramos palavras que podem ser plurais, por exemplo.\n",
    "\n",
    "Existem muitos tipos diferentes de stemmers, então você deve escolher o que funciona melhor para o seu caso de uso."
   ]
  },
  {
   "cell_type": "code",
   "execution_count": null,
   "metadata": {
    "colab": {},
    "colab_type": "code",
    "id": "CIp5Dmzixsno"
   },
   "outputs": [],
   "source": [
    "porter = nltk.PorterStemmer()"
   ]
  },
  {
   "cell_type": "code",
   "execution_count": null,
   "metadata": {
    "colab": {},
    "colab_type": "code",
    "id": "tB6pvgBuxzda"
   },
   "outputs": [],
   "source": [
    "my_list = [\"cat\",\"cats\",\"lie\",\"lying\",\"run\",\"running\",\"city\",\"cities\",\"month\",\"monthly\",\"woman\",\"women\"]"
   ]
  },
  {
   "cell_type": "code",
   "execution_count": 13,
   "metadata": {
    "colab": {
     "base_uri": "https://localhost:8080/",
     "height": 230
    },
    "colab_type": "code",
    "executionInfo": {
     "elapsed": 912,
     "status": "ok",
     "timestamp": 1576352169576,
     "user": {
      "displayName": "Wellington Franco",
      "photoUrl": "",
      "userId": "16483586833616386684"
     },
     "user_tz": 180
    },
    "id": "BE9xbZV9x6Yx",
    "outputId": "bf08a3fa-9d3f-4a27-d3af-79e082b9a466"
   },
   "outputs": [
    {
     "name": "stdout",
     "output_type": "stream",
     "text": [
      "cat\n",
      "cat\n",
      "lie\n",
      "lie\n",
      "run\n",
      "run\n",
      "citi\n",
      "citi\n",
      "month\n",
      "monthli\n",
      "woman\n",
      "women\n"
     ]
    }
   ],
   "source": [
    "for word in my_list:\n",
    "    print(porter.stem(word))"
   ]
  },
  {
   "cell_type": "code",
   "execution_count": null,
   "metadata": {
    "colab": {},
    "colab_type": "code",
    "id": "YlOJmhfGx84C"
   },
   "outputs": [],
   "source": [
    "lancaster = nltk.LancasterStemmer()"
   ]
  },
  {
   "cell_type": "code",
   "execution_count": 15,
   "metadata": {
    "colab": {
     "base_uri": "https://localhost:8080/",
     "height": 230
    },
    "colab_type": "code",
    "executionInfo": {
     "elapsed": 954,
     "status": "ok",
     "timestamp": 1576352289041,
     "user": {
      "displayName": "Wellington Franco",
      "photoUrl": "",
      "userId": "16483586833616386684"
     },
     "user_tz": 180
    },
    "id": "YPyPpybbyh9k",
    "outputId": "d9ab2514-83f9-46ab-b6e0-ebb49830a938"
   },
   "outputs": [
    {
     "name": "stdout",
     "output_type": "stream",
     "text": [
      "cat\n",
      "cat\n",
      "lie\n",
      "lying\n",
      "run\n",
      "run\n",
      "city\n",
      "city\n",
      "mon\n",
      "month\n",
      "wom\n",
      "wom\n"
     ]
    }
   ],
   "source": [
    "for word in my_list:\n",
    "    print(lancaster.stem(word))"
   ]
  },
  {
   "cell_type": "markdown",
   "metadata": {
    "colab_type": "text",
    "id": "qBXGfDjgyqKo"
   },
   "source": [
    "Lematizar"
   ]
  },
  {
   "cell_type": "code",
   "execution_count": 16,
   "metadata": {
    "colab": {
     "base_uri": "https://localhost:8080/",
     "height": 70
    },
    "colab_type": "code",
    "executionInfo": {
     "elapsed": 3292,
     "status": "ok",
     "timestamp": 1576352622251,
     "user": {
      "displayName": "Wellington Franco",
      "photoUrl": "",
      "userId": "16483586833616386684"
     },
     "user_tz": 180
    },
    "id": "hu_Bfd4oy4WG",
    "outputId": "905f337a-8065-4a01-eb49-01ebed767ed9"
   },
   "outputs": [
    {
     "name": "stdout",
     "output_type": "stream",
     "text": [
      "[nltk_data] Downloading package wordnet to /root/nltk_data...\n",
      "[nltk_data]   Unzipping corpora/wordnet.zip.\n"
     ]
    },
    {
     "data": {
      "text/plain": [
       "True"
      ]
     },
     "execution_count": 16,
     "metadata": {
      "tags": []
     },
     "output_type": "execute_result"
    }
   ],
   "source": [
    "nltk.download('wordnet')"
   ]
  },
  {
   "cell_type": "code",
   "execution_count": null,
   "metadata": {
    "colab": {},
    "colab_type": "code",
    "id": "p6cbntaryt3t"
   },
   "outputs": [],
   "source": [
    "wnlem = nltk.WordNetLemmatizer()"
   ]
  },
  {
   "cell_type": "code",
   "execution_count": 18,
   "metadata": {
    "colab": {
     "base_uri": "https://localhost:8080/",
     "height": 230
    },
    "colab_type": "code",
    "executionInfo": {
     "elapsed": 3368,
     "status": "ok",
     "timestamp": 1576352641393,
     "user": {
      "displayName": "Wellington Franco",
      "photoUrl": "",
      "userId": "16483586833616386684"
     },
     "user_tz": 180
    },
    "id": "Lj51UkGxyiv8",
    "outputId": "1ee07262-0715-4935-a95a-7d51a0fdd568"
   },
   "outputs": [
    {
     "name": "stdout",
     "output_type": "stream",
     "text": [
      "cat\n",
      "cat\n",
      "lie\n",
      "lying\n",
      "run\n",
      "running\n",
      "city\n",
      "city\n",
      "month\n",
      "monthly\n",
      "woman\n",
      "woman\n"
     ]
    }
   ],
   "source": [
    "for word in my_list:\n",
    "    print(wnlem.lemmatize(word))\n"
   ]
  }
 ],
 "metadata": {
  "colab": {
   "name": "Aula5 _Ex_1.ipynb",
   "provenance": []
  },
  "kernelspec": {
   "display_name": "Python 3",
   "language": "python",
   "name": "python3"
  },
  "language_info": {
   "codemirror_mode": {
    "name": "ipython",
    "version": 3
   },
   "file_extension": ".py",
   "mimetype": "text/x-python",
   "name": "python",
   "nbconvert_exporter": "python",
   "pygments_lexer": "ipython3",
   "version": "3.7.3"
  }
 },
 "nbformat": 4,
 "nbformat_minor": 2
}
