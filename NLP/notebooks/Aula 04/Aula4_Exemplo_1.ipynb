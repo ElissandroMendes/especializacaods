{
 "cells": [
  {
   "cell_type": "markdown",
   "metadata": {
    "colab_type": "text",
    "id": "XcaePcgw-1bI"
   },
   "source": [
    "Aula 04 - Expressões Regulares"
   ]
  },
  {
   "cell_type": "code",
   "execution_count": 1,
   "metadata": {
    "colab": {
     "base_uri": "https://localhost:8080/",
     "height": 52
    },
    "colab_type": "code",
    "executionInfo": {
     "elapsed": 2133,
     "status": "ok",
     "timestamp": 1576350309479,
     "user": {
      "displayName": "Wellington Franco",
      "photoUrl": "",
      "userId": "16483586833616386684"
     },
     "user_tz": 180
    },
    "id": "Q6iov2iU-0jf",
    "outputId": "b3225f49-37c7-4d54-85da-fda980d34dd4"
   },
   "outputs": [
    {
     "name": "stdout",
     "output_type": "stream",
     "text": [
      "[nltk_data] Downloading package gutenberg to /root/nltk_data...\n",
      "[nltk_data]   Unzipping corpora/gutenberg.zip.\n"
     ]
    }
   ],
   "source": [
    "import nltk\n",
    "import re\n",
    "nltk.download('gutenberg')\n",
    "alice = nltk.corpus.gutenberg.words(\"carroll-alice.txt\")\n"
   ]
  },
  {
   "cell_type": "code",
   "execution_count": 2,
   "metadata": {
    "colab": {
     "base_uri": "https://localhost:8080/",
     "height": 35
    },
    "colab_type": "code",
    "executionInfo": {
     "elapsed": 672,
     "status": "ok",
     "timestamp": 1576350314368,
     "user": {
      "displayName": "Wellington Franco",
      "photoUrl": "",
      "userId": "16483586833616386684"
     },
     "user_tz": 180
    },
    "id": "F3GLT1ht_Zx4",
    "outputId": "0c86286a-7538-48ea-fbed-ab44a66e6348"
   },
   "outputs": [
    {
     "data": {
      "text/plain": [
       "['[', 'Alice', \"'\", 's', 'Adventures', 'in', ...]"
      ]
     },
     "execution_count": 2,
     "metadata": {
      "tags": []
     },
     "output_type": "execute_result"
    }
   ],
   "source": [
    "alice"
   ]
  },
  {
   "cell_type": "markdown",
   "metadata": {
    "colab_type": "text",
    "id": "o7ZPGpeZ_nLY"
   },
   "source": [
    "Encontrando a string ***\"new\"*** no corpus "
   ]
  },
  {
   "cell_type": "code",
   "execution_count": null,
   "metadata": {
    "colab": {},
    "colab_type": "code",
    "id": "EMMdCAD-BYbf"
   },
   "outputs": [],
   "source": [
    "list_word_re = []"
   ]
  },
  {
   "cell_type": "code",
   "execution_count": 4,
   "metadata": {
    "colab": {
     "base_uri": "https://localhost:8080/",
     "height": 35
    },
    "colab_type": "code",
    "executionInfo": {
     "elapsed": 1040,
     "status": "ok",
     "timestamp": 1576350576031,
     "user": {
      "displayName": "Wellington Franco",
      "photoUrl": "",
      "userId": "16483586833616386684"
     },
     "user_tz": 180
    },
    "id": "IxNQ7-R7A4R3",
    "outputId": "826368e5-3116-4640-a6c4-56edf26e510a"
   },
   "outputs": [
    {
     "data": {
      "text/plain": [
       "{'new', 'newspapers'}"
      ]
     },
     "execution_count": 4,
     "metadata": {
      "tags": []
     },
     "output_type": "execute_result"
    }
   ],
   "source": [
    "for word in alice:\n",
    "  if re.search(\"^new\",word):\n",
    "    list_word_re.append(word)\n",
    "\n",
    "list_word_re = set(list_word_re)\n",
    "\n",
    "list_word_re\n"
   ]
  },
  {
   "cell_type": "code",
   "execution_count": null,
   "metadata": {
    "colab": {
     "base_uri": "https://localhost:8080/",
     "height": 35
    },
    "colab_type": "code",
    "executionInfo": {
     "elapsed": 1229,
     "status": "ok",
     "timestamp": 1576287063574,
     "user": {
      "displayName": "Wellington Franco",
      "photoUrl": "",
      "userId": "16483586833616386684"
     },
     "user_tz": 180
    },
    "id": "1_XGCNMe_c8u",
    "outputId": "57878784-b176-4ec1-9d74-5d4d51db21cd"
   },
   "outputs": [
    {
     "data": {
      "text/plain": [
       "{'new', 'newspapers'}"
      ]
     },
     "execution_count": 13,
     "metadata": {
      "tags": []
     },
     "output_type": "execute_result"
    }
   ],
   "source": [
    "list_word_re = set([word for word in alice \n",
    "                    if re.search(\"^new\",word)])\n",
    "\n",
    "list_word_re"
   ]
  },
  {
   "cell_type": "markdown",
   "metadata": {
    "colab_type": "text",
    "id": "Z85tMCz0CEpk"
   },
   "source": [
    "Encontrando a string *\"ful\"* no corpus"
   ]
  },
  {
   "cell_type": "code",
   "execution_count": null,
   "metadata": {
    "colab": {
     "base_uri": "https://localhost:8080/",
     "height": 287
    },
    "colab_type": "code",
    "executionInfo": {
     "elapsed": 2382,
     "status": "ok",
     "timestamp": 1576291599329,
     "user": {
      "displayName": "Wellington Franco",
      "photoUrl": "",
      "userId": "16483586833616386684"
     },
     "user_tz": 180
    },
    "id": "Gw_Q-lO4CERP",
    "outputId": "9024d745-f329-4349-9ec7-5e28371be67d"
   },
   "outputs": [
    {
     "data": {
      "text/plain": [
       "{'Beautiful',\n",
       " 'barrowful',\n",
       " 'beautiful',\n",
       " 'delightful',\n",
       " 'doubtful',\n",
       " 'dreadful',\n",
       " 'graceful',\n",
       " 'hopeful',\n",
       " 'mournful',\n",
       " 'ootiful',\n",
       " 'respectful',\n",
       " 'sorrowful',\n",
       " 'truthful',\n",
       " 'useful',\n",
       " 'wonderful'}"
      ]
     },
     "execution_count": 14,
     "metadata": {
      "tags": []
     },
     "output_type": "execute_result"
    }
   ],
   "source": [
    "set([word for word in alice if re.search(\"ful$\",word)])"
   ]
  },
  {
   "cell_type": "markdown",
   "metadata": {
    "colab_type": "text",
    "id": "Xe16UZs5TYgX"
   },
   "source": [
    "Encontrar palavras com seis caracteres e dois n's no meio."
   ]
  },
  {
   "cell_type": "code",
   "execution_count": null,
   "metadata": {
    "colab": {
     "base_uri": "https://localhost:8080/",
     "height": 35
    },
    "colab_type": "code",
    "executionInfo": {
     "elapsed": 1631,
     "status": "ok",
     "timestamp": 1576291656129,
     "user": {
      "displayName": "Wellington Franco",
      "photoUrl": "",
      "userId": "16483586833616386684"
     },
     "user_tz": 180
    },
    "id": "wQaaZPDyTZXm",
    "outputId": "593b3d98-9499-4221-9774-89b66dc13704"
   },
   "outputs": [
    {
     "data": {
      "text/plain": [
       "{'cannot', 'dinner', 'fanned', 'manner', 'tunnel'}"
      ]
     },
     "execution_count": 15,
     "metadata": {
      "tags": []
     },
     "output_type": "execute_result"
    }
   ],
   "source": [
    "set([word for word in alice if re.search(\"^..nn..$\",word)])"
   ]
  },
  {
   "cell_type": "markdown",
   "metadata": {
    "colab_type": "text",
    "id": "tfDEkMQoTgVs"
   },
   "source": [
    "Localizando palavras que começam com \"c\", \"h\" e \"r\" e terminam em \"t\"."
   ]
  },
  {
   "cell_type": "code",
   "execution_count": null,
   "metadata": {
    "colab": {
     "base_uri": "https://localhost:8080/",
     "height": 35
    },
    "colab_type": "code",
    "executionInfo": {
     "elapsed": 937,
     "status": "ok",
     "timestamp": 1576291721435,
     "user": {
      "displayName": "Wellington Franco",
      "photoUrl": "",
      "userId": "16483586833616386684"
     },
     "user_tz": 180
    },
    "id": "xNaZdn4yTran",
    "outputId": "6441c0a2-1a76-4f7f-b142-14ec2e62c968"
   },
   "outputs": [
    {
     "data": {
      "text/plain": [
       "{'cat', 'hat', 'rat'}"
      ]
     },
     "execution_count": 16,
     "metadata": {
      "tags": []
     },
     "output_type": "execute_result"
    }
   ],
   "source": [
    "set([word for word in alice if re.search(\"^[chr]at$\",word)])"
   ]
  },
  {
   "cell_type": "markdown",
   "metadata": {
    "colab_type": "text",
    "id": "IuN2O2s5T3kn"
   },
   "source": [
    "Encontrando palavras de qualquer tamanho que possuam dois n's."
   ]
  },
  {
   "cell_type": "code",
   "execution_count": null,
   "metadata": {
    "colab": {
     "base_uri": "https://localhost:8080/",
     "height": 377
    },
    "colab_type": "code",
    "executionInfo": {
     "elapsed": 1113,
     "status": "ok",
     "timestamp": 1576291783608,
     "user": {
      "displayName": "Wellington Franco",
      "photoUrl": "",
      "userId": "16483586833616386684"
     },
     "user_tz": 180
    },
    "id": "GTUL-Jd5T4VH",
    "outputId": "6baa1bef-8964-45b7-e8b2-f7ec0cdab142"
   },
   "outputs": [
    {
     "data": {
      "text/plain": [
       "{'Ann',\n",
       " 'Dinn',\n",
       " 'Pennyworth',\n",
       " 'annoy',\n",
       " 'annoyed',\n",
       " 'beginning',\n",
       " 'cannot',\n",
       " 'cunning',\n",
       " 'dinn',\n",
       " 'dinner',\n",
       " 'fanned',\n",
       " 'fanning',\n",
       " 'funny',\n",
       " 'grinned',\n",
       " 'grinning',\n",
       " 'manner',\n",
       " 'manners',\n",
       " 'planning',\n",
       " 'running',\n",
       " 'tunnel'}"
      ]
     },
     "execution_count": 17,
     "metadata": {
      "tags": []
     },
     "output_type": "execute_result"
    }
   ],
   "source": [
    "set([word for word in alice if re.search(\"^.*nn.*$\",word)])"
   ]
  },
  {
   "cell_type": "code",
   "execution_count": null,
   "metadata": {
    "colab": {},
    "colab_type": "code",
    "id": "V25aFNluTvFk"
   },
   "outputs": [],
   "source": []
  }
 ],
 "metadata": {
  "colab": {
   "name": "Aula4_Exemplo_1.ipynb",
   "provenance": []
  },
  "kernelspec": {
   "display_name": "Python 3",
   "language": "python",
   "name": "python3"
  },
  "language_info": {
   "codemirror_mode": {
    "name": "ipython",
    "version": 3
   },
   "file_extension": ".py",
   "mimetype": "text/x-python",
   "name": "python",
   "nbconvert_exporter": "python",
   "pygments_lexer": "ipython3",
   "version": "3.7.3"
  }
 },
 "nbformat": 4,
 "nbformat_minor": 2
}
