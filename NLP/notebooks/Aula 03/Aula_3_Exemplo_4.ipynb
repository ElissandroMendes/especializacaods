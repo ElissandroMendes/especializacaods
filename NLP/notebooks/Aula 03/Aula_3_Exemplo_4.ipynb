{
 "cells": [
  {
   "cell_type": "markdown",
   "metadata": {
    "colab_type": "text",
    "id": "AYRzDpE5_Don"
   },
   "source": [
    "Exemplo 04 - Extração de informação a partir das palavras\n",
    "\n",
    "\n",
    "\n"
   ]
  },
  {
   "cell_type": "code",
   "execution_count": 1,
   "metadata": {
    "colab": {
     "base_uri": "https://localhost:8080/",
     "height": 407
    },
    "colab_type": "code",
    "executionInfo": {
     "elapsed": 2834,
     "status": "ok",
     "timestamp": 1576346461500,
     "user": {
      "displayName": "Wellington Franco",
      "photoUrl": "",
      "userId": "16483586833616386684"
     },
     "user_tz": 180
    },
    "id": "_qB2zm5q_Ctd",
    "outputId": "ba60c55a-7655-438d-cfdb-1d13b65f8e25"
   },
   "outputs": [
    {
     "name": "stdout",
     "output_type": "stream",
     "text": [
      "[nltk_data] Downloading package gutenberg to /root/nltk_data...\n",
      "[nltk_data]   Unzipping corpora/gutenberg.zip.\n",
      "[nltk_data] Downloading package punkt to /root/nltk_data...\n",
      "[nltk_data]   Unzipping tokenizers/punkt.zip.\n"
     ]
    },
    {
     "data": {
      "text/plain": [
       "['austen-emma.txt',\n",
       " 'austen-persuasion.txt',\n",
       " 'austen-sense.txt',\n",
       " 'bible-kjv.txt',\n",
       " 'blake-poems.txt',\n",
       " 'bryant-stories.txt',\n",
       " 'burgess-busterbrown.txt',\n",
       " 'carroll-alice.txt',\n",
       " 'chesterton-ball.txt',\n",
       " 'chesterton-brown.txt',\n",
       " 'chesterton-thursday.txt',\n",
       " 'edgeworth-parents.txt',\n",
       " 'melville-moby_dick.txt',\n",
       " 'milton-paradise.txt',\n",
       " 'shakespeare-caesar.txt',\n",
       " 'shakespeare-hamlet.txt',\n",
       " 'shakespeare-macbeth.txt',\n",
       " 'whitman-leaves.txt']"
      ]
     },
     "execution_count": 1,
     "metadata": {
      "tags": []
     },
     "output_type": "execute_result"
    }
   ],
   "source": [
    "import nltk\n",
    "from nltk.corpus import gutenberg\n",
    "\n",
    "nltk.download('gutenberg')\n",
    "nltk.download('punkt')\n",
    "nltk.corpus.gutenberg.fileids()"
   ]
  },
  {
   "cell_type": "markdown",
   "metadata": {
    "colab_type": "text",
    "id": "p3hasoNwmCys"
   },
   "source": [
    "Salvar todas as palavras de um documento em um vetor"
   ]
  },
  {
   "cell_type": "code",
   "execution_count": null,
   "metadata": {
    "colab": {},
    "colab_type": "code",
    "id": "-FJnDjFPAk1P"
   },
   "outputs": [],
   "source": [
    "alice = nltk.corpus.gutenberg.words(\"carroll-alice.txt\")"
   ]
  },
  {
   "cell_type": "code",
   "execution_count": 3,
   "metadata": {
    "colab": {
     "base_uri": "https://localhost:8080/",
     "height": 35
    },
    "colab_type": "code",
    "executionInfo": {
     "elapsed": 890,
     "status": "ok",
     "timestamp": 1576346471522,
     "user": {
      "displayName": "Wellington Franco",
      "photoUrl": "",
      "userId": "16483586833616386684"
     },
     "user_tz": 180
    },
    "id": "NUpU9xc-Ay3l",
    "outputId": "230d5d62-6143-469e-9b8f-39378148c9c8"
   },
   "outputs": [
    {
     "data": {
      "text/plain": [
       "['[', 'Alice', \"'\", 's', 'Adventures', 'in', ...]"
      ]
     },
     "execution_count": 3,
     "metadata": {
      "tags": []
     },
     "output_type": "execute_result"
    }
   ],
   "source": [
    "alice"
   ]
  },
  {
   "cell_type": "code",
   "execution_count": 4,
   "metadata": {
    "colab": {
     "base_uri": "https://localhost:8080/",
     "height": 35
    },
    "colab_type": "code",
    "executionInfo": {
     "elapsed": 659,
     "status": "ok",
     "timestamp": 1576346473697,
     "user": {
      "displayName": "Wellington Franco",
      "photoUrl": "",
      "userId": "16483586833616386684"
     },
     "user_tz": 180
    },
    "id": "NiqqJ_7CApTL",
    "outputId": "89b454da-93a6-4d17-e50c-cb69d757288c"
   },
   "outputs": [
    {
     "data": {
      "text/plain": [
       "34110"
      ]
     },
     "execution_count": 4,
     "metadata": {
      "tags": []
     },
     "output_type": "execute_result"
    }
   ],
   "source": [
    "len(alice)"
   ]
  },
  {
   "cell_type": "markdown",
   "metadata": {
    "colab_type": "text",
    "id": "uhh-VKwTBAXf"
   },
   "source": [
    "A distribuição de frequência pega uma lista de palavras e conta quantas vezes cada palavra é vista."
   ]
  },
  {
   "cell_type": "code",
   "execution_count": null,
   "metadata": {
    "colab": {},
    "colab_type": "code",
    "id": "rz4O5WVHBC_E"
   },
   "outputs": [],
   "source": [
    "alice_freq = nltk.FreqDist(alice)"
   ]
  },
  {
   "cell_type": "markdown",
   "metadata": {
    "colab_type": "text",
    "id": "t0suwAs7Bepg"
   },
   "source": [
    "As 100 palavras mais frequentes\n",
    "---\n",
    "\n"
   ]
  },
  {
   "cell_type": "code",
   "execution_count": null,
   "metadata": {
    "colab": {},
    "colab_type": "code",
    "id": "7dPhgQ9ABWfM"
   },
   "outputs": [],
   "source": [
    "alice_fred_100 = alice_freq.most_common(100)\n"
   ]
  },
  {
   "cell_type": "markdown",
   "metadata": {
    "colab_type": "text",
    "id": "r3AW3xDQAh2D"
   },
   "source": [
    "Podemos encontrar as 15 palavras mais comuns vistas."
   ]
  },
  {
   "cell_type": "code",
   "execution_count": 11,
   "metadata": {
    "colab": {
     "base_uri": "https://localhost:8080/",
     "height": 1000
    },
    "colab_type": "code",
    "executionInfo": {
     "elapsed": 1552,
     "status": "ok",
     "timestamp": 1576347057412,
     "user": {
      "displayName": "Wellington Franco",
      "photoUrl": "",
      "userId": "16483586833616386684"
     },
     "user_tz": 180
    },
    "id": "u4w09058m_af",
    "outputId": "e78a3142-279a-4756-9716-f59f84a6f95d"
   },
   "outputs": [
    {
     "data": {
      "text/plain": [
       "[(',', 1993),\n",
       " (\"'\", 1731),\n",
       " ('the', 1527),\n",
       " ('and', 802),\n",
       " ('.', 764),\n",
       " ('to', 725),\n",
       " ('a', 615),\n",
       " ('I', 543),\n",
       " ('it', 527),\n",
       " ('she', 509),\n",
       " ('of', 500),\n",
       " ('said', 456),\n",
       " (\",'\", 397),\n",
       " ('Alice', 396),\n",
       " ('in', 357),\n",
       " ('was', 352),\n",
       " ('you', 345),\n",
       " (\"!'\", 278),\n",
       " ('that', 275),\n",
       " ('as', 246),\n",
       " ('her', 243),\n",
       " (':', 216),\n",
       " ('t', 216),\n",
       " ('at', 202),\n",
       " ('s', 195),\n",
       " ('on', 189),\n",
       " (\".'\", 187),\n",
       " (';', 186),\n",
       " ('had', 177),\n",
       " ('with', 175),\n",
       " ('all', 173),\n",
       " ('!', 155),\n",
       " (\"?'\", 154),\n",
       " ('be', 145),\n",
       " ('-', 141),\n",
       " ('for', 140),\n",
       " ('--', 140),\n",
       " ('but', 133),\n",
       " ('not', 129),\n",
       " ('they', 129),\n",
       " ('very', 126),\n",
       " ('little', 125),\n",
       " ('so', 124),\n",
       " ('out', 116),\n",
       " ('this', 113),\n",
       " ('The', 108),\n",
       " ('he', 101),\n",
       " ('down', 99),\n",
       " ('up', 98),\n",
       " ('is', 97),\n",
       " ('about', 94),\n",
       " ('one', 94),\n",
       " ('his', 94),\n",
       " ('what', 93),\n",
       " ('them', 88),\n",
       " ('know', 87),\n",
       " ('were', 85),\n",
       " ('like', 84),\n",
       " ('went', 83),\n",
       " ('again', 83),\n",
       " ('herself', 83),\n",
       " ('if', 78),\n",
       " ('or', 76),\n",
       " ('thought', 74),\n",
       " ('Queen', 74),\n",
       " ('could', 73),\n",
       " ('have', 73),\n",
       " ('then', 72),\n",
       " ('would', 70),\n",
       " ('no', 69),\n",
       " ('when', 69),\n",
       " ('do', 68),\n",
       " ('time', 68),\n",
       " ('into', 67),\n",
       " ('And', 67),\n",
       " ('see', 66),\n",
       " ('there', 65),\n",
       " ('It', 64),\n",
       " ('off', 62),\n",
       " ('me', 61),\n",
       " ('King', 61),\n",
       " ('did', 60),\n",
       " ('*', 60),\n",
       " ('Turtle', 59),\n",
       " ('began', 58),\n",
       " ('m', 58),\n",
       " ('can', 57),\n",
       " ('way', 56),\n",
       " ('ll', 56),\n",
       " ('its', 56),\n",
       " ('Mock', 56),\n",
       " ('by', 55),\n",
       " ('my', 55),\n",
       " ('Hatter', 55),\n",
       " ('Gryphon', 55),\n",
       " ('quite', 53),\n",
       " ('your', 53),\n",
       " ('an', 52),\n",
       " ('much', 51),\n",
       " ('say', 51)]"
      ]
     },
     "execution_count": 11,
     "metadata": {
      "tags": []
     },
     "output_type": "execute_result"
    }
   ],
   "source": [
    "alice_freq.most_common(100)\n"
   ]
  },
  {
   "cell_type": "markdown",
   "metadata": {
    "colab_type": "text",
    "id": "KIDUWC-nOyF-"
   },
   "source": [
    "Vamos fazer o mesmo tratamento para outro texto"
   ]
  },
  {
   "cell_type": "code",
   "execution_count": null,
   "metadata": {
    "colab": {},
    "colab_type": "code",
    "id": "ixEQBE6sO5Qv"
   },
   "outputs": [],
   "source": [
    "moby = nltk.corpus.gutenberg.words(\"melville-moby_dick.txt\")\n",
    "moby_fd = nltk.FreqDist(moby)\n",
    "moby_fd_100 = moby_fd.most_common(100)\n"
   ]
  },
  {
   "cell_type": "markdown",
   "metadata": {
    "colab_type": "text",
    "id": "HTV8GpLMPA11"
   },
   "source": [
    "Já não nos importamos exatamente quantas vezes cada palavra foi vista e pode diminuir a contagem."
   ]
  },
  {
   "cell_type": "code",
   "execution_count": null,
   "metadata": {
    "colab": {
     "base_uri": "https://localhost:8080/",
     "height": 1000
    },
    "colab_type": "code",
    "executionInfo": {
     "elapsed": 702,
     "status": "ok",
     "timestamp": 1576273792975,
     "user": {
      "displayName": "Wellington Franco",
      "photoUrl": "",
      "userId": "16483586833616386684"
     },
     "user_tz": 180
    },
    "id": "SVztAxrTPR8J",
    "outputId": "237bf984-03f6-4f1b-dce1-983fee04aece"
   },
   "outputs": [
    {
     "data": {
      "text/plain": [
       "[(',', 18713),\n",
       " ('the', 13721),\n",
       " ('.', 6862),\n",
       " ('of', 6536),\n",
       " ('and', 6024),\n",
       " ('a', 4569),\n",
       " ('to', 4542),\n",
       " (';', 4072),\n",
       " ('in', 3916),\n",
       " ('that', 2982),\n",
       " (\"'\", 2684),\n",
       " ('-', 2552),\n",
       " ('his', 2459),\n",
       " ('it', 2209),\n",
       " ('I', 2124),\n",
       " ('s', 1739),\n",
       " ('is', 1695),\n",
       " ('he', 1661),\n",
       " ('with', 1659),\n",
       " ('was', 1632),\n",
       " ('as', 1620),\n",
       " ('\"', 1478),\n",
       " ('all', 1462),\n",
       " ('for', 1414),\n",
       " ('this', 1280),\n",
       " ('!', 1269),\n",
       " ('at', 1231),\n",
       " ('by', 1137),\n",
       " ('but', 1113),\n",
       " ('not', 1103),\n",
       " ('--', 1070),\n",
       " ('him', 1058),\n",
       " ('from', 1052),\n",
       " ('be', 1030),\n",
       " ('on', 1005),\n",
       " ('so', 918),\n",
       " ('whale', 906),\n",
       " ('one', 889),\n",
       " ('you', 841),\n",
       " ('had', 767),\n",
       " ('have', 760),\n",
       " ('there', 715),\n",
       " ('But', 705),\n",
       " ('or', 697),\n",
       " ('were', 680),\n",
       " ('now', 646),\n",
       " ('which', 640),\n",
       " ('?', 637),\n",
       " ('me', 627),\n",
       " ('like', 624),\n",
       " ('The', 612),\n",
       " ('their', 612),\n",
       " ('are', 586),\n",
       " ('they', 586),\n",
       " ('an', 582),\n",
       " ('some', 578),\n",
       " ('then', 571),\n",
       " ('my', 564),\n",
       " ('when', 553),\n",
       " ('upon', 538),\n",
       " ('out', 529),\n",
       " ('into', 520),\n",
       " ('man', 508),\n",
       " ('ship', 507),\n",
       " ('up', 505),\n",
       " ('more', 501),\n",
       " ('Ahab', 501),\n",
       " ('.\"', 489),\n",
       " ('no', 484),\n",
       " ('them', 471),\n",
       " ('ye', 460),\n",
       " ('what', 442),\n",
       " ('old', 436),\n",
       " ('sea', 433),\n",
       " ('would', 421),\n",
       " ('if', 421),\n",
       " ('been', 415),\n",
       " ('we', 413),\n",
       " ('other', 412),\n",
       " ('over', 403),\n",
       " ('these', 381),\n",
       " ('will', 379),\n",
       " ('its', 372),\n",
       " ('And', 369),\n",
       " ('down', 364),\n",
       " ('only', 360),\n",
       " ('such', 336),\n",
       " ('head', 335),\n",
       " ('though', 335),\n",
       " ('boat', 330),\n",
       " ('her', 329),\n",
       " ('time', 324),\n",
       " ('any', 320),\n",
       " ('who', 319),\n",
       " ('long', 318),\n",
       " ('very', 311),\n",
       " ('It', 310),\n",
       " ('than', 309),\n",
       " ('!\"', 305),\n",
       " ('about', 304)]"
      ]
     },
     "execution_count": 13,
     "metadata": {
      "tags": []
     },
     "output_type": "execute_result"
    }
   ],
   "source": [
    "moby_100 = [word[0] for word in moby_fd_100]\n",
    "moby_fd_100"
   ]
  },
  {
   "cell_type": "code",
   "execution_count": 10,
   "metadata": {
    "colab": {
     "base_uri": "https://localhost:8080/",
     "height": 1000
    },
    "colab_type": "code",
    "executionInfo": {
     "elapsed": 641,
     "status": "ok",
     "timestamp": 1576347035480,
     "user": {
      "displayName": "Wellington Franco",
      "photoUrl": "",
      "userId": "16483586833616386684"
     },
     "user_tz": 180
    },
    "id": "ht0nupEPPC00",
    "outputId": "a63ade6a-aff7-4a29-897a-63e47635c2dc"
   },
   "outputs": [
    {
     "data": {
      "text/plain": [
       "[',',\n",
       " \"'\",\n",
       " 'the',\n",
       " 'and',\n",
       " '.',\n",
       " 'to',\n",
       " 'a',\n",
       " 'I',\n",
       " 'it',\n",
       " 'she',\n",
       " 'of',\n",
       " 'said',\n",
       " \",'\",\n",
       " 'Alice',\n",
       " 'in',\n",
       " 'was',\n",
       " 'you',\n",
       " \"!'\",\n",
       " 'that',\n",
       " 'as',\n",
       " 'her',\n",
       " ':',\n",
       " 't',\n",
       " 'at',\n",
       " 's',\n",
       " 'on',\n",
       " \".'\",\n",
       " ';',\n",
       " 'had',\n",
       " 'with',\n",
       " 'all',\n",
       " '!',\n",
       " \"?'\",\n",
       " 'be',\n",
       " '-',\n",
       " 'for',\n",
       " '--',\n",
       " 'but',\n",
       " 'not',\n",
       " 'they',\n",
       " 'very',\n",
       " 'little',\n",
       " 'so',\n",
       " 'out',\n",
       " 'this',\n",
       " 'The',\n",
       " 'he',\n",
       " 'down',\n",
       " 'up',\n",
       " 'is',\n",
       " 'about',\n",
       " 'one',\n",
       " 'his',\n",
       " 'what',\n",
       " 'them',\n",
       " 'know',\n",
       " 'were',\n",
       " 'like',\n",
       " 'went',\n",
       " 'again',\n",
       " 'herself',\n",
       " 'if',\n",
       " 'or',\n",
       " 'thought',\n",
       " 'Queen',\n",
       " 'could',\n",
       " 'have',\n",
       " 'then',\n",
       " 'would',\n",
       " 'no',\n",
       " 'when',\n",
       " 'do',\n",
       " 'time',\n",
       " 'into',\n",
       " 'And',\n",
       " 'see',\n",
       " 'there',\n",
       " 'It',\n",
       " 'off',\n",
       " 'me',\n",
       " 'King',\n",
       " 'did',\n",
       " '*',\n",
       " 'Turtle',\n",
       " 'began',\n",
       " 'm',\n",
       " 'can',\n",
       " 'way',\n",
       " 'll',\n",
       " 'its',\n",
       " 'Mock',\n",
       " 'by',\n",
       " 'my',\n",
       " 'Hatter',\n",
       " 'Gryphon',\n",
       " 'quite',\n",
       " 'your',\n",
       " 'an',\n",
       " 'much',\n",
       " 'say']"
      ]
     },
     "execution_count": 10,
     "metadata": {
      "tags": []
     },
     "output_type": "execute_result"
    }
   ],
   "source": [
    "alice_100  = [word[0] for word in alice_fred_100]\n",
    "alice_100\n"
   ]
  },
  {
   "cell_type": "code",
   "execution_count": 13,
   "metadata": {
    "colab": {
     "base_uri": "https://localhost:8080/",
     "height": 1000
    },
    "colab_type": "code",
    "executionInfo": {
     "elapsed": 823,
     "status": "ok",
     "timestamp": 1576347605387,
     "user": {
      "displayName": "Wellington Franco",
      "photoUrl": "",
      "userId": "16483586833616386684"
     },
     "user_tz": 180
    },
    "id": "kO5UNZg7n5aO",
    "outputId": "33694c48-5b10-4a18-fe93-9c49ca1feaa9"
   },
   "outputs": [
    {
     "data": {
      "text/plain": [
       "[',',\n",
       " \"'\",\n",
       " 'the',\n",
       " 'and',\n",
       " '.',\n",
       " 'to',\n",
       " 'a',\n",
       " 'I',\n",
       " 'it',\n",
       " 'she',\n",
       " 'of',\n",
       " 'said',\n",
       " \",'\",\n",
       " 'Alice',\n",
       " 'in',\n",
       " 'was',\n",
       " 'you',\n",
       " \"!'\",\n",
       " 'that',\n",
       " 'as',\n",
       " 'her',\n",
       " ':',\n",
       " 't',\n",
       " 'at',\n",
       " 's',\n",
       " 'on',\n",
       " \".'\",\n",
       " ';',\n",
       " 'had',\n",
       " 'with',\n",
       " 'all',\n",
       " '!',\n",
       " \"?'\",\n",
       " 'be',\n",
       " '-',\n",
       " 'for',\n",
       " '--',\n",
       " 'but',\n",
       " 'not',\n",
       " 'they',\n",
       " 'very',\n",
       " 'little',\n",
       " 'so',\n",
       " 'out',\n",
       " 'this',\n",
       " 'The',\n",
       " 'he',\n",
       " 'down',\n",
       " 'up',\n",
       " 'is',\n",
       " 'about',\n",
       " 'one',\n",
       " 'his',\n",
       " 'what',\n",
       " 'them',\n",
       " 'know',\n",
       " 'were',\n",
       " 'like',\n",
       " 'went',\n",
       " 'again',\n",
       " 'herself',\n",
       " 'if',\n",
       " 'or',\n",
       " 'thought',\n",
       " 'Queen',\n",
       " 'could',\n",
       " 'have',\n",
       " 'then',\n",
       " 'would',\n",
       " 'no',\n",
       " 'when',\n",
       " 'do',\n",
       " 'time',\n",
       " 'into',\n",
       " 'And',\n",
       " 'see',\n",
       " 'there',\n",
       " 'It',\n",
       " 'off',\n",
       " 'me',\n",
       " 'King',\n",
       " 'did',\n",
       " '*',\n",
       " 'Turtle',\n",
       " 'began',\n",
       " 'm',\n",
       " 'can',\n",
       " 'way',\n",
       " 'll',\n",
       " 'its',\n",
       " 'Mock',\n",
       " 'by',\n",
       " 'my',\n",
       " 'Hatter',\n",
       " 'Gryphon',\n",
       " 'quite',\n",
       " 'your',\n",
       " 'an',\n",
       " 'much',\n",
       " 'say']"
      ]
     },
     "execution_count": 13,
     "metadata": {
      "tags": []
     },
     "output_type": "execute_result"
    }
   ],
   "source": [
    "alice_100  = []\n",
    "for word in alice_fred_100:\n",
    "  alice_100.append(word[0])\n",
    "\n",
    "alice_100\n",
    "\n",
    "alice_100  = [word[0] for word in alice_fred_100]\n",
    "\n",
    "alice_100"
   ]
  },
  {
   "cell_type": "markdown",
   "metadata": {
    "colab_type": "text",
    "id": "o0-y5uR0Pqjc"
   },
   "source": [
    "Dois conjuntos podem ser subtraídos um do outro, deixando-nos com a diferença."
   ]
  },
  {
   "cell_type": "code",
   "execution_count": null,
   "metadata": {
    "colab": {
     "base_uri": "https://localhost:8080/",
     "height": 665
    },
    "colab_type": "code",
    "executionInfo": {
     "elapsed": 732,
     "status": "ok",
     "timestamp": 1576273919758,
     "user": {
      "displayName": "Wellington Franco",
      "photoUrl": "",
      "userId": "16483586833616386684"
     },
     "user_tz": 180
    },
    "id": "q-GpZSktPw1r",
    "outputId": "5c4a17a1-e875-4680-9d46-afe231f60baa"
   },
   "outputs": [
    {
     "data": {
      "text/plain": [
       "['said',\n",
       " ':',\n",
       " \".'\",\n",
       " 'began',\n",
       " 'can',\n",
       " 'way',\n",
       " 'see',\n",
       " 'thought',\n",
       " 'much',\n",
       " 'Turtle',\n",
       " 'quite',\n",
       " 'your',\n",
       " 'Mock',\n",
       " 'm',\n",
       " 'Gryphon',\n",
       " 't',\n",
       " \",'\",\n",
       " 'll',\n",
       " 'could',\n",
       " '*',\n",
       " 'Queen',\n",
       " 'went',\n",
       " 'say',\n",
       " 'she',\n",
       " 'little',\n",
       " 'Alice',\n",
       " \"!'\",\n",
       " 'Hatter',\n",
       " \"?'\",\n",
       " 'herself',\n",
       " 'King',\n",
       " 'did',\n",
       " 'off',\n",
       " 'again',\n",
       " 'know',\n",
       " 'do']"
      ]
     },
     "execution_count": 14,
     "metadata": {
      "tags": []
     },
     "output_type": "execute_result"
    }
   ],
   "source": [
    "list(set(alice_100) - set(moby_100))"
   ]
  },
  {
   "cell_type": "code",
   "execution_count": null,
   "metadata": {
    "colab": {
     "base_uri": "https://localhost:8080/",
     "height": 665
    },
    "colab_type": "code",
    "executionInfo": {
     "elapsed": 463,
     "status": "ok",
     "timestamp": 1576273941550,
     "user": {
      "displayName": "Wellington Franco",
      "photoUrl": "",
      "userId": "16483586833616386684"
     },
     "user_tz": 180
    },
    "id": "hJuiqCrMP4pS",
    "outputId": "c88d081c-8f69-4376-bfe5-2014500c34f8"
   },
   "outputs": [
    {
     "data": {
      "text/plain": [
       "['than',\n",
       " 'But',\n",
       " 'head',\n",
       " 'more',\n",
       " 'such',\n",
       " 'Ahab',\n",
       " 'ye',\n",
       " 'upon',\n",
       " 'from',\n",
       " 'though',\n",
       " 'some',\n",
       " 'their',\n",
       " 'are',\n",
       " 'long',\n",
       " 'any',\n",
       " 'these',\n",
       " 'sea',\n",
       " 'only',\n",
       " '.\"',\n",
       " 'who',\n",
       " 'we',\n",
       " '!\"',\n",
       " '?',\n",
       " 'ship',\n",
       " 'now',\n",
       " 'man',\n",
       " 'been',\n",
       " 'other',\n",
       " 'which',\n",
       " 'over',\n",
       " 'him',\n",
       " '\"',\n",
       " 'whale',\n",
       " 'old',\n",
       " 'boat',\n",
       " 'will']"
      ]
     },
     "execution_count": 15,
     "metadata": {
      "tags": []
     },
     "output_type": "execute_result"
    }
   ],
   "source": [
    "list(set(moby_100) - set(alice_100))"
   ]
  }
 ],
 "metadata": {
  "colab": {
   "name": "Aula_3_Exemplo_4.ipynb",
   "provenance": []
  },
  "kernelspec": {
   "display_name": "Python 3",
   "language": "python",
   "name": "python3"
  },
  "language_info": {
   "codemirror_mode": {
    "name": "ipython",
    "version": 3
   },
   "file_extension": ".py",
   "mimetype": "text/x-python",
   "name": "python",
   "nbconvert_exporter": "python",
   "pygments_lexer": "ipython3",
   "version": "3.7.3"
  }
 },
 "nbformat": 4,
 "nbformat_minor": 2
}
