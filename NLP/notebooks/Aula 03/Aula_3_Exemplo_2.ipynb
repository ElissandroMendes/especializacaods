{
 "cells": [
  {
   "cell_type": "markdown",
   "metadata": {
    "colab_type": "text",
    "id": "AYRzDpE5_Don"
   },
   "source": [
    "Exemplo 02 - Operações com basicas documentos\n",
    "\n",
    "\n",
    "\n"
   ]
  },
  {
   "cell_type": "code",
   "execution_count": 1,
   "metadata": {
    "colab": {
     "base_uri": "https://localhost:8080/",
     "height": 407
    },
    "colab_type": "code",
    "executionInfo": {
     "elapsed": 2833,
     "status": "ok",
     "timestamp": 1576344438910,
     "user": {
      "displayName": "Wellington Franco",
      "photoUrl": "",
      "userId": "16483586833616386684"
     },
     "user_tz": 180
    },
    "id": "_qB2zm5q_Ctd",
    "outputId": "366ca6d1-8fef-438f-cce0-2524bbe6a3ec"
   },
   "outputs": [
    {
     "name": "stdout",
     "output_type": "stream",
     "text": [
      "[nltk_data] Downloading package gutenberg to /root/nltk_data...\n",
      "[nltk_data]   Unzipping corpora/gutenberg.zip.\n",
      "[nltk_data] Downloading package punkt to /root/nltk_data...\n",
      "[nltk_data]   Unzipping tokenizers/punkt.zip.\n"
     ]
    },
    {
     "data": {
      "text/plain": [
       "['austen-emma.txt',\n",
       " 'austen-persuasion.txt',\n",
       " 'austen-sense.txt',\n",
       " 'bible-kjv.txt',\n",
       " 'blake-poems.txt',\n",
       " 'bryant-stories.txt',\n",
       " 'burgess-busterbrown.txt',\n",
       " 'carroll-alice.txt',\n",
       " 'chesterton-ball.txt',\n",
       " 'chesterton-brown.txt',\n",
       " 'chesterton-thursday.txt',\n",
       " 'edgeworth-parents.txt',\n",
       " 'melville-moby_dick.txt',\n",
       " 'milton-paradise.txt',\n",
       " 'shakespeare-caesar.txt',\n",
       " 'shakespeare-hamlet.txt',\n",
       " 'shakespeare-macbeth.txt',\n",
       " 'whitman-leaves.txt']"
      ]
     },
     "execution_count": 1,
     "metadata": {
      "tags": []
     },
     "output_type": "execute_result"
    }
   ],
   "source": [
    "import nltk\n",
    "from nltk.corpus import gutenberg\n",
    "\n",
    "nltk.download('gutenberg')\n",
    "nltk.download('punkt')\n",
    "nltk.corpus.gutenberg.fileids()"
   ]
  },
  {
   "cell_type": "markdown",
   "metadata": {
    "colab_type": "text",
    "id": "p3hasoNwmCys"
   },
   "source": [
    "Total de palavras em cada documento do corpus\n"
   ]
  },
  {
   "cell_type": "code",
   "execution_count": 2,
   "metadata": {
    "colab": {
     "base_uri": "https://localhost:8080/",
     "height": 336
    },
    "colab_type": "code",
    "executionInfo": {
     "elapsed": 2595,
     "status": "ok",
     "timestamp": 1576344444163,
     "user": {
      "displayName": "Wellington Franco",
      "photoUrl": "",
      "userId": "16483586833616386684"
     },
     "user_tz": 180
    },
    "id": "u4w09058m_af",
    "outputId": "26932c6c-471e-441a-9e7d-fa572735e236"
   },
   "outputs": [
    {
     "name": "stdout",
     "output_type": "stream",
     "text": [
      "192427 austen-emma.txt\n",
      "98171 austen-persuasion.txt\n",
      "141576 austen-sense.txt\n",
      "1010654 bible-kjv.txt\n",
      "8354 blake-poems.txt\n",
      "55563 bryant-stories.txt\n",
      "18963 burgess-busterbrown.txt\n",
      "34110 carroll-alice.txt\n",
      "96996 chesterton-ball.txt\n",
      "86063 chesterton-brown.txt\n",
      "69213 chesterton-thursday.txt\n",
      "210663 edgeworth-parents.txt\n",
      "260819 melville-moby_dick.txt\n",
      "96825 milton-paradise.txt\n",
      "25833 shakespeare-caesar.txt\n",
      "37360 shakespeare-hamlet.txt\n",
      "23140 shakespeare-macbeth.txt\n",
      "154883 whitman-leaves.txt\n"
     ]
    }
   ],
   "source": [
    "for documents in gutenberg.fileids():\n",
    "    words_total = len(gutenberg.words(documents))\n",
    "    print(words_total, documents)"
   ]
  },
  {
   "cell_type": "markdown",
   "metadata": {
    "colab_type": "text",
    "id": "x2rP-P2bnfCB"
   },
   "source": [
    "Colocar em um vetor a quantidade de documentos Tupla (documento, quantidade de palavras)"
   ]
  },
  {
   "cell_type": "code",
   "execution_count": null,
   "metadata": {
    "colab": {},
    "colab_type": "code",
    "id": "ZCyPvCjEnaBy"
   },
   "outputs": [],
   "source": [
    "documents_len = [(len(gutenberg.words(documents)), documents) \n",
    "for documents in gutenberg.fileids()]"
   ]
  },
  {
   "cell_type": "markdown",
   "metadata": {
    "colab_type": "text",
    "id": "AV5kCvaOoUpe"
   },
   "source": [
    "Quantidade de documentos"
   ]
  },
  {
   "cell_type": "code",
   "execution_count": 5,
   "metadata": {
    "colab": {
     "base_uri": "https://localhost:8080/",
     "height": 35
    },
    "colab_type": "code",
    "executionInfo": {
     "elapsed": 713,
     "status": "ok",
     "timestamp": 1576344716316,
     "user": {
      "displayName": "Wellington Franco",
      "photoUrl": "",
      "userId": "16483586833616386684"
     },
     "user_tz": 180
    },
    "id": "ddSMxM1AnZ_C",
    "outputId": "8ae72b88-190a-4f9a-da9f-838412812c74"
   },
   "outputs": [
    {
     "data": {
      "text/plain": [
       "18"
      ]
     },
     "execution_count": 5,
     "metadata": {
      "tags": []
     },
     "output_type": "execute_result"
    }
   ],
   "source": [
    "len(documents_len)"
   ]
  },
  {
   "cell_type": "markdown",
   "metadata": {
    "colab_type": "text",
    "id": "BXTmUzV2qBh1"
   },
   "source": [
    "Como saber quem é o maior documento?"
   ]
  },
  {
   "cell_type": "code",
   "execution_count": 6,
   "metadata": {
    "colab": {
     "base_uri": "https://localhost:8080/",
     "height": 35
    },
    "colab_type": "code",
    "executionInfo": {
     "elapsed": 814,
     "status": "ok",
     "timestamp": 1576344985573,
     "user": {
      "displayName": "Wellington Franco",
      "photoUrl": "",
      "userId": "16483586833616386684"
     },
     "user_tz": 180
    },
    "id": "-fUcLcmBqCcq",
    "outputId": "6c45cc08-3434-4ee7-9c1d-9049ebe5e9cd"
   },
   "outputs": [
    {
     "data": {
      "text/plain": [
       "(1010654, 'bible-kjv.txt')"
      ]
     },
     "execution_count": 6,
     "metadata": {
      "tags": []
     },
     "output_type": "execute_result"
    }
   ],
   "source": [
    "max(documents_len)"
   ]
  },
  {
   "cell_type": "markdown",
   "metadata": {
    "colab_type": "text",
    "id": "9skM3EGU6j6-"
   },
   "source": [
    "Como saber quem é o menor documento?"
   ]
  },
  {
   "cell_type": "code",
   "execution_count": 7,
   "metadata": {
    "colab": {
     "base_uri": "https://localhost:8080/",
     "height": 35
    },
    "colab_type": "code",
    "executionInfo": {
     "elapsed": 2174,
     "status": "ok",
     "timestamp": 1576344992875,
     "user": {
      "displayName": "Wellington Franco",
      "photoUrl": "",
      "userId": "16483586833616386684"
     },
     "user_tz": 180
    },
    "id": "PurkinLO6nsd",
    "outputId": "17b9ca53-0d09-416e-d79b-58c65e9ea790"
   },
   "outputs": [
    {
     "data": {
      "text/plain": [
       "(8354, 'blake-poems.txt')"
      ]
     },
     "execution_count": 7,
     "metadata": {
      "tags": []
     },
     "output_type": "execute_result"
    }
   ],
   "source": [
    "min(documents_len)"
   ]
  },
  {
   "cell_type": "markdown",
   "metadata": {
    "colab_type": "text",
    "id": "eDuMmF5x68SX"
   },
   "source": [
    "Como saber a media da quantidade sentenças por palavras"
   ]
  },
  {
   "cell_type": "code",
   "execution_count": null,
   "metadata": {
    "colab": {
     "base_uri": "https://localhost:8080/",
     "height": 341
    },
    "colab_type": "code",
    "executionInfo": {
     "elapsed": 8054,
     "status": "ok",
     "timestamp": 1576269182809,
     "user": {
      "displayName": "Wellington Franco",
      "photoUrl": "",
      "userId": "16483586833616386684"
     },
     "user_tz": 180
    },
    "id": "ZJ8FsfFI9RdE",
    "outputId": "5eec323d-a4d9-4ef4-a855-5523611614ac"
   },
   "outputs": [
    {
     "name": "stdout",
     "output_type": "stream",
     "text": [
      "24.822884416924666 austen-emma.txt\n",
      "26.19989324793168 austen-persuasion.txt\n",
      "28.32086417283457 austen-sense.txt\n",
      "33.57319868451649 bible-kjv.txt\n",
      "19.073059360730593 blake-poems.txt\n",
      "19.40726510653161 bryant-stories.txt\n",
      "17.99146110056926 burgess-busterbrown.txt\n",
      "20.029359953024077 carroll-alice.txt\n",
      "20.296296296296298 chesterton-ball.txt\n",
      "22.61245401996847 chesterton-brown.txt\n",
      "18.496258685195084 chesterton-thursday.txt\n",
      "20.59266862170088 edgeworth-parents.txt\n",
      "25.928919375683467 melville-moby_dick.txt\n",
      "52.309562398703406 milton-paradise.txt\n",
      "11.943134535367545 shakespeare-caesar.txt\n",
      "12.028332260141662 shakespeare-hamlet.txt\n",
      "12.134242265338228 shakespeare-macbeth.txt\n",
      "36.44305882352941 whitman-leaves.txt\n"
     ]
    }
   ],
   "source": [
    "for documents in gutenberg.fileids():\n",
    "    words_total = len(gutenberg.words(documents))\n",
    "    sents_total = len(gutenberg.sents(documents))\n",
    "    print(words_total/sents_total, documents)"
   ]
  }
 ],
 "metadata": {
  "colab": {
   "name": "Aula_3_Exemplo_2.ipynb",
   "provenance": []
  },
  "kernelspec": {
   "display_name": "Python 3",
   "language": "python",
   "name": "python3"
  },
  "language_info": {
   "codemirror_mode": {
    "name": "ipython",
    "version": 3
   },
   "file_extension": ".py",
   "mimetype": "text/x-python",
   "name": "python",
   "nbconvert_exporter": "python",
   "pygments_lexer": "ipython3",
   "version": "3.7.3"
  }
 },
 "nbformat": 4,
 "nbformat_minor": 2
}
