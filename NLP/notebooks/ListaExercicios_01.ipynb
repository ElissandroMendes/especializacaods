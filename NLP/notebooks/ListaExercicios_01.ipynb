{
 "cells": [
  {
   "cell_type": "markdown",
   "metadata": {},
   "source": [
    "## 1 - O que é comunicação?"
   ]
  },
  {
   "cell_type": "markdown",
   "metadata": {},
   "source": [
    "Considerando dois ou mais indivíduos a **comunicação** é o ato ou processo estabelecido entre eles para haja entendimento mútuo, e para isso, se utilizam de símbolos, regras, sinais ou comportamentos comuns."
   ]
  },
  {
   "cell_type": "markdown",
   "metadata": {},
   "source": [
    "## 2 - Como nós fazemos para se comunicar usando linguagem natural? Dê exemplos. "
   ]
  },
  {
   "cell_type": "markdown",
   "metadata": {},
   "source": [
    "Atráves da fala, da audição e visão, realizamos nosso ato de comunicar e ou decodificar o que é comunicado. \n",
    "Assim, em nosso processo de comunicação: falamos, escutamos, escrevemos e lemos. \n",
    "Ao assisitr um podcast ou se criar um podcast, quando damos uma conferência ou escrevemos livros e artigos, \n",
    "estamos nos comunicando fazendo uso da linguagem natural."
   ]
  },
  {
   "cell_type": "markdown",
   "metadata": {},
   "source": [
    "## 3 -  Defina informação."
   ]
  },
  {
   "cell_type": "markdown",
   "metadata": {},
   "source": [
    "É o que se cria, quando se obtém, manipula e processa-se dados, e, damos a ele um sentido próprio de acordo com o nosso entendimento, de tal modo que o resultado tenha sentido, seja relevante e nos modifique de alguma maneira. "
   ]
  },
  {
   "cell_type": "markdown",
   "metadata": {},
   "source": [
    "## 4 - Defina e exemplifique Sintaxe."
   ]
  },
  {
   "cell_type": "markdown",
   "metadata": {},
   "source": [
    "De forma abrangente, são as regras, estruturas e processos utilizados para determinadas estruturas sejam construídas.\n",
    "Em cada campo aplica-se a determinado fim. P ex.: definição a estrutura de uma lingugem de programção, a estrutura de dados ou a forma que deve ser utilizada na montagem de frases em determinada língua."
   ]
  },
  {
   "cell_type": "markdown",
   "metadata": {},
   "source": [
    "## 5 - Defina e exemplifique Semântica."
   ]
  },
  {
   "cell_type": "markdown",
   "metadata": {},
   "source": [
    "Estuda o significado dados aos diversos conjuntos de símbolos pelo entes envolvidos no uso destes, sejam símbolos de \n",
    "uma língua, de uma linguagem de programação, etc. Foca no sentido dado ao que \n",
    "é construído a partir das regras ditadas pela sintaxe, que por sua vez foca apenas na estrutura."
   ]
  },
  {
   "cell_type": "markdown",
   "metadata": {},
   "source": [
    "## 6 - Qual a diferença entre contexto e pragmatismo?"
   ]
  },
  {
   "cell_type": "markdown",
   "metadata": {},
   "source": [
    "Contexto coloca as expressões em perspectiva buscando tecer uma interpretação do que foi dito. Pragmatismo tem a ver com o uso das expressões pelos seus usuário conforme a situação, normalmente tal modificação no uso se dá pelo contexto no qual o usuário está envolvido quando do uso da expressão. "
   ]
  },
  {
   "cell_type": "markdown",
   "metadata": {},
   "source": [
    "## 7 - O que Processamento de Linguagem Natural?"
   ]
  },
  {
   "cell_type": "markdown",
   "metadata": {},
   "source": [
    "É um campo de pesquisa da ciência da computação, IA e linquística computacional que fazendo uso de linguagens de programção busca extrair informações significativa e gerar novas informações também em linguagem natural."
   ]
  },
  {
   "cell_type": "markdown",
   "metadata": {},
   "source": [
    "## 8 - Liste e explique os principais desafios em Processamento de Linguagem Natural?"
   ]
  },
  {
   "cell_type": "markdown",
   "metadata": {},
   "source": [
    "**Segmentação de texto**, ato de dividir um texto em porções menores com relevância entre si.\n",
    "\n",
    "**Segmentação de senteças**, ato de quebrar sentenças e seus contituintes.\n",
    "\n",
    "**Tokenização**, dividir um fluxo de texto em partes menores e ainda significativos: frases, simbolos, palavras.\n",
    "\n",
    "**Pos tagger**, marcar uma palavra do texto conforme sua definição e contexto dentro do texto.\n",
    "\n",
    "**Parsing**, analisar símbolos conforme as regras gramaticais gerando árvores sintáticas.\n",
    "\n",
    "**Reconhecer entidades nomeadas**,localizar e classificar elementos de um texto dado a eles um sentido predefinido como: nomes de pessoa, lugar, valor moentário, expressões de tempo.\n",
    "\n",
    "**Desambiguação**, dar o significado exato de uma entidade ou segmento de texto conforme uma base de conhecimento.\n",
    "\n",
    "**Sematic Role Labeling**, extrair triplas sujeito-predicado-objeto em sentenças.\n",
    "\n",
    "**Paráfrase**, buscar gerar mesmo siginificado de umtexto, porém, fazendo uso de outras palavras."
   ]
  },
  {
   "cell_type": "markdown",
   "metadata": {},
   "source": [
    "## 9 - Defina vocabulário."
   ]
  },
  {
   "cell_type": "markdown",
   "metadata": {},
   "source": [
    "Basicamente é o nome dado ao conjunto de palavras de uma língua com os quais os usuário poderão comunicar-se."
   ]
  },
  {
   "cell_type": "markdown",
   "metadata": {},
   "source": [
    "## 10 - Qual a diferença entre stemmer e lematizador?"
   ]
  },
  {
   "cell_type": "markdown",
   "metadata": {},
   "source": [
    "Os dois são processos de normalização de textos, buscam remover das palavras que compôem o texto suas inflexões gramaticais, buscando uma forma raiz da palvra. O processo de stemmer não se preocupa quanto ao resultado ser uma palavra válida. Já a lematização procura devolver uma forma canônica da palavra.  "
   ]
  },
  {
   "cell_type": "code",
   "execution_count": null,
   "metadata": {},
   "outputs": [],
   "source": []
  }
 ],
 "metadata": {
  "kernelspec": {
   "display_name": "Python 3",
   "language": "python",
   "name": "python3"
  },
  "language_info": {
   "codemirror_mode": {
    "name": "ipython",
    "version": 3
   },
   "file_extension": ".py",
   "mimetype": "text/x-python",
   "name": "python",
   "nbconvert_exporter": "python",
   "pygments_lexer": "ipython3",
   "version": "3.7.3"
  }
 },
 "nbformat": 4,
 "nbformat_minor": 2
}
